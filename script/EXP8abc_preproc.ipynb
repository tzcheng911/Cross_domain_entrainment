{
 "cells": [
  {
   "cell_type": "code",
   "execution_count": 8,
   "metadata": {},
   "outputs": [],
   "source": [
    "## Import packages\n",
    "import csv\n",
    "import glob\n",
    "import os\n",
    "import numpy as np\n",
    "import pandas as pd\n",
    "from collections import defaultdict\n",
    "import string\n",
    "import seaborn as sns\n",
    "import matplotlib.pyplot as plt\n",
    "from scipy import stats\n",
    "from sklearn import linear_model\n",
    "from sklearn import metrics # confusion matrix, MSE etc."
   ]
  },
  {
   "cell_type": "code",
   "execution_count": 9,
   "metadata": {},
   "outputs": [],
   "source": [
    "## Load data\n",
    "path_to_data = \"/Users/t.z.cheng/Google_Drive/Research/cross_domain_entrainment/exp8/results/old/\"\n",
    "os.chdir(path_to_data)\n",
    "df = pd.read_csv(\"combined_csv.csv\")"
   ]
  },
  {
   "cell_type": "markdown",
   "metadata": {},
   "source": [
    "## Set parameters\n",
    "- Accuracy threshold for the easiest trials of the main task \n",
    "- Extreme RT threshold\n",
    "- Catch trial accuracy"
   ]
  },
  {
   "cell_type": "code",
   "execution_count": 10,
   "metadata": {},
   "outputs": [],
   "source": [
    "## Define parameters \n",
    "which_exp = 'EXP8c'\n",
    "threshold = .55\n",
    "catch_threshold = .9\n",
    "RT_threshold = 10000"
   ]
  },
  {
   "cell_type": "code",
   "execution_count": 11,
   "metadata": {},
   "outputs": [],
   "source": [
    "## Tasks & Conditions: Clean up task and subject ID (first five characters)\n",
    "df['task'] = df['trial_template'].apply(lambda x: x.split(\"_\")[1] if (x.split(\"_\")[0] == which_exp) else x.split(\"_\")[0])\n",
    "df['sub_id'] = df['participant_id'].apply(lambda x: x.split()[0][0:5])\n",
    "## for exp8abc\n",
    "df['exp'] = df['group_id'].apply(lambda x: x.split(\"_\")[0])\n",
    "df = df[(df['exp'] == which_exp)].reset_index(drop = True)"
   ]
  },
  {
   "cell_type": "code",
   "execution_count": 12,
   "metadata": {},
   "outputs": [],
   "source": [
    "## Add the accuracy and PPS column to the dataset: transform True and Shorter to 1, False and longer to 0\n",
    "Correct = [] # only applied for the prescreen\n",
    "Shorter = []\n",
    "for i in np.arange(0,len(df)):\n",
    "    if df['response_correct'][i] == True:\n",
    "        Correct.append(1)\n",
    "    else: \n",
    "        Correct.append(0)\n",
    "    if ((df['response_value'][i] == \"Lap\") or (df['response_value'][i] == \"Shorter\")): \n",
    "        Shorter.append(1)\n",
    "    else: \n",
    "        Shorter.append(0)\n",
    "df['Correct'] = Correct\n",
    "df['Shorter'] = Shorter"
   ]
  },
  {
   "cell_type": "markdown",
   "metadata": {},
   "source": [
    "## Data cleaning \n",
    "***Super important: df_clean is overwritten after each step of data cleaning***\n",
    "\n",
    "**Reject subjects**\n",
    "- Catch trial\n",
    "- Environmental noise & audio device (may not need to use them as criteria)\n",
    "- Fail the practice trial on the last 12 practice trial: pass people have done 24 trials, fail people have done 36 trials\n",
    "\n",
    "**Reject trials**\n",
    "- Task-relevant trials\n",
    "- Extreme RT"
   ]
  },
  {
   "cell_type": "code",
   "execution_count": 13,
   "metadata": {},
   "outputs": [
    {
     "name": "stdout",
     "output_type": "stream",
     "text": [
      "11\n",
      "   sub_id  response_correct\n",
      "0   05944          0.461538\n",
      "1   08d1c          0.807692\n",
      "2   2c1a9          0.461538\n",
      "3   37e15          0.538462\n",
      "4   55175          0.846154\n",
      "5   6ce60          0.884615\n",
      "6   85f09          0.730769\n",
      "7   c47ae          0.346154\n",
      "8   d0b0c          0.461538\n",
      "9   d9664          0.730769\n",
      "10  ea15b          0.384615\n"
     ]
    }
   ],
   "source": [
    "## How many subjects miss the catch trial \n",
    "catch_trials = ['Catch_trials'] ## for exp8abc\n",
    "\n",
    "df_catch = df[(df['trial_template'].isin(catch_trials))].reset_index(drop = True) # reset index from 1\n",
    "catch_acc = df_catch.groupby('sub_id')['response_correct'].sum()/df_catch.groupby('sub_id')['response_correct'].count()\n",
    "fail_catch = catch_acc[catch_acc < catch_threshold].reset_index()\n",
    "print(len(fail_catch))\n",
    "print(fail_catch)"
   ]
  },
  {
   "cell_type": "code",
   "execution_count": 14,
   "metadata": {},
   "outputs": [],
   "source": [
    "## remove subjects who failed the catch trial based on the threshold\n",
    "df_clean = df[~df['sub_id'].isin(fail_catch['sub_id'])].reset_index(drop = True)"
   ]
  },
  {
   "cell_type": "code",
   "execution_count": 15,
   "metadata": {},
   "outputs": [
    {
     "name": "stdout",
     "output_type": "stream",
     "text": [
      "1\n",
      "  sub_id response_value\n",
      "0  4e6de              4\n"
     ]
    }
   ],
   "source": [
    "## How many subjects had a bad environmental noise and device\n",
    "df_noise = df[(df['response_name'] == 'survey_noise')].reset_index(drop = True)\n",
    "noise = df_noise.groupby('sub_id')['response_value'].sum()\n",
    "too_noisy = noise[noise == '4'].reset_index()\n",
    "print(len(too_noisy))\n",
    "print(too_noisy)"
   ]
  },
  {
   "cell_type": "code",
   "execution_count": 16,
   "metadata": {},
   "outputs": [],
   "source": [
    "## remove subjects who completed the task in noisy environment\n",
    "df_clean = df_clean[~df_clean['sub_id'].isin(too_noisy['sub_id'])].reset_index(drop = True)"
   ]
  },
  {
   "cell_type": "code",
   "execution_count": 17,
   "metadata": {},
   "outputs": [
    {
     "data": {
      "text/plain": [
       "100"
      ]
     },
     "execution_count": 17,
     "metadata": {},
     "output_type": "execute_result"
    }
   ],
   "source": [
    "# may remove subjects who completed the task using low-quality audio device\n",
    "df_device = df[(df['response_name'] == 'survey_headphone1')].reset_index()\n",
    "len(df_device[['sub_id','response_value']] == 'Yes')"
   ]
  },
  {
   "cell_type": "code",
   "execution_count": 18,
   "metadata": {},
   "outputs": [],
   "source": [
    "# if which_exp != 'EXP8a':\n",
    "#     ## remove subjects who failed the practice \n",
    "#     fail_prac = df[df['branch_failpass'] == 'fail']['sub_id'].unique()\n",
    "#     len(fail_prac)\n",
    "#     df_clean = df_clean[(~df_clean['sub_id'].isin(fail_prac))].reset_index()"
   ]
  },
  {
   "cell_type": "code",
   "execution_count": 19,
   "metadata": {},
   "outputs": [
    {
     "name": "stdout",
     "output_type": "stream",
     "text": [
      "Participant_number:\n",
      "88\n",
      "Trial number:\n",
      "426\n",
      "Condition number:\n",
      "46\n"
     ]
    }
   ],
   "source": [
    "## After cleaning how many subjects left\n",
    "## Number of subjects, trials & conditions for each subjects\n",
    "n_subj = len(df_clean['participant_id'].unique())\n",
    "n_trial = len(df_clean)//n_subj # how many trials per subject\n",
    "n_conds = len(df_clean['stimuli_presented'].unique())\n",
    "print('Participant_number:', n_subj,'Trial number:', n_trial,'Condition number:', n_conds, sep='\\n')"
   ]
  },
  {
   "cell_type": "markdown",
   "metadata": {},
   "source": [
    "### Task relevant trials\n",
    "#### Select the trials to analyze\n",
    "- Pretest trails (n = 60): single tone 1 or 8\n",
    "- Practice trials (n = 24 or 36): 6 context tones + 1 ontime single tone 1 or 8 with correct/incorrect feedback\n",
    "- Main task (n = 576): 6 context tones + 1 single tone (early, ontime, late; 1 to 8 steps) without feedback"
   ]
  },
  {
   "cell_type": "markdown",
   "metadata": {},
   "source": [
    "### Select the pretest trials "
   ]
  },
  {
   "cell_type": "code",
   "execution_count": 78,
   "metadata": {
    "scrolled": true
   },
   "outputs": [
    {
     "name": "stdout",
     "output_type": "stream",
     "text": [
      "stimuli_presented\n",
      "long_tone_8     0.350000\n",
      "short_tone_1    0.619697\n",
      "Name: Shorter, dtype: float64\n"
     ]
    }
   ],
   "source": [
    "df_pre = df_clean[(df_clean['task'] == \"PretestTrials\")].reset_index()\n",
    "df_pre.groupby(['sub_id','stimuli_presented'])['Correct'].mean()\n",
    "pre_acc = df_pre.groupby(['sub_id'])['Correct'].mean()\n",
    "conds = df_pre['stimuli_presented'].unique()\n",
    "print(df_pre.groupby('stimuli_presented')['Shorter'].mean())"
   ]
  },
  {
   "cell_type": "code",
   "execution_count": 84,
   "metadata": {},
   "outputs": [
    {
     "data": {
      "text/plain": [
       "stimuli_presented                       sub_id\n",
       "single_300ms_ontime_delay_2_tone_Lab_1  07d11     1\n",
       "                                        07f97     1\n",
       "                                        085e4     1\n",
       "                                        0b3ef     1\n",
       "                                        0e2a5     1\n",
       "                                                 ..\n",
       "single_300ms_ontime_delay_2_tone_Lab_8  f767a     0\n",
       "                                        fa58e     1\n",
       "                                        fb147     0\n",
       "                                        fb46c     0\n",
       "                                        fdc6c     0\n",
       "Name: Shorter, Length: 176, dtype: int64"
      ]
     },
     "execution_count": 84,
     "metadata": {},
     "output_type": "execute_result"
    }
   ],
   "source": [
    "sub_prac_acc_last"
   ]
  },
  {
   "cell_type": "code",
   "execution_count": 86,
   "metadata": {},
   "outputs": [
    {
     "data": {
      "text/plain": [
       "0.4829545454545454"
      ]
     },
     "execution_count": 86,
     "metadata": {},
     "output_type": "execute_result"
    }
   ],
   "source": [
    "(0.45454545454545453+0.5113636363636364)/2"
   ]
  },
  {
   "cell_type": "code",
   "execution_count": 87,
   "metadata": {},
   "outputs": [
    {
     "data": {
      "text/plain": [
       "0.6420454545454546"
      ]
     },
     "execution_count": 87,
     "metadata": {},
     "output_type": "execute_result"
    }
   ],
   "source": [
    "(0.6363636363636364+0.6477272727272727)/2"
   ]
  },
  {
   "cell_type": "code",
   "execution_count": 85,
   "metadata": {},
   "outputs": [
    {
     "name": "stdout",
     "output_type": "stream",
     "text": [
      "0.45454545454545453\n",
      "0.6363636363636364\n",
      "0.5113636363636364\n",
      "0.6477272727272727\n"
     ]
    }
   ],
   "source": [
    "sub_pre_acc_first = df_pre.groupby(['stimuli_presented','sub_id'])['Shorter'].first()\n",
    "sub_pre_acc_last = df_pre.groupby(['stimuli_presented','sub_id'])['Shorter'].last()\n",
    "print(sub_pre_acc_first['short_tone_1'].mean())\n",
    "print(sub_pre_acc_last['short_tone_1'].mean())\n",
    "\n",
    "print(1 - sub_pre_acc_first['long_tone_8'].mean())\n",
    "print(1 - sub_pre_acc_last['long_tone_8'].mean())"
   ]
  },
  {
   "cell_type": "markdown",
   "metadata": {},
   "source": [
    "### Select the practice trials"
   ]
  },
  {
   "cell_type": "code",
   "execution_count": 68,
   "metadata": {},
   "outputs": [
    {
     "name": "stdout",
     "output_type": "stream",
     "text": [
      "stimuli_presented\n",
      "single_300ms_ontime_delay_2_tone_Lab_1    0.767007\n",
      "single_300ms_ontime_delay_2_tone_Lab_8    0.236395\n",
      "Name: Shorter, dtype: float64\n"
     ]
    }
   ],
   "source": [
    "df_prac = df_clean[(df_clean['task'] == \"practiceTrials\")].reset_index()\n",
    "conds = df_prac['stimuli_presented'].unique()\n",
    "sub = df_prac['sub_id'].unique()\n",
    "print(df_prac.groupby('stimuli_presented')['Shorter'].mean())"
   ]
  },
  {
   "cell_type": "code",
   "execution_count": 74,
   "metadata": {},
   "outputs": [
    {
     "name": "stdout",
     "output_type": "stream",
     "text": [
      "0.75\n",
      "0.8522727272727273\n",
      "0.7159090909090908\n",
      "0.8636363636363636\n"
     ]
    }
   ],
   "source": [
    "sub_prac_acc_first = df_prac.groupby(['stimuli_presented','sub_id'])['Shorter'].first()\n",
    "sub_prac_acc_last = df_prac.groupby(['stimuli_presented','sub_id'])['Shorter'].last()\n",
    "\n",
    "print(sub_prac_acc_first['single_300ms_ontime_delay_2_tone_Lab_1'].mean())\n",
    "print(sub_prac_acc_last['single_300ms_ontime_delay_2_tone_Lab_1'].mean())\n",
    "\n",
    "print(1 - sub_prac_acc_first['single_300ms_ontime_delay_2_tone_Lab_8'].mean())\n",
    "print(1 - sub_prac_acc_last['single_300ms_ontime_delay_2_tone_Lab_8'].mean())"
   ]
  },
  {
   "cell_type": "code",
   "execution_count": 76,
   "metadata": {},
   "outputs": [
    {
     "data": {
      "text/plain": [
       "0.8579545454545454"
      ]
     },
     "execution_count": 76,
     "metadata": {},
     "output_type": "execute_result"
    }
   ],
   "source": [
    "(0.8522727272727273+ 0.8636363636363636)/2"
   ]
  },
  {
   "cell_type": "code",
   "execution_count": 43,
   "metadata": {},
   "outputs": [
    {
     "data": {
      "text/plain": [
       "0.7894570707070708"
      ]
     },
     "execution_count": 43,
     "metadata": {},
     "output_type": "execute_result"
    }
   ],
   "source": [
    "sub_prac_acc['single_300ms_ontime_delay_2_tone_Lab_1'].mean()"
   ]
  },
  {
   "cell_type": "code",
   "execution_count": 46,
   "metadata": {},
   "outputs": [
    {
     "data": {
      "text/plain": [
       "0.18541724691180264"
      ]
     },
     "execution_count": 46,
     "metadata": {},
     "output_type": "execute_result"
    }
   ],
   "source": [
    "sub_prac_acc['single_300ms_ontime_delay_2_tone_Lab_8'].std()"
   ]
  },
  {
   "cell_type": "code",
   "execution_count": 47,
   "metadata": {},
   "outputs": [
    {
     "data": {
      "text/plain": [
       "0.17322769108667888"
      ]
     },
     "execution_count": 47,
     "metadata": {},
     "output_type": "execute_result"
    }
   ],
   "source": [
    "sub_prac_acc['single_300ms_ontime_delay_2_tone_Lab_1'].std()"
   ]
  },
  {
   "cell_type": "code",
   "execution_count": 25,
   "metadata": {},
   "outputs": [],
   "source": [
    "sub = df_prac['sub_id'].unique()"
   ]
  },
  {
   "cell_type": "code",
   "execution_count": 28,
   "metadata": {},
   "outputs": [
    {
     "data": {
      "text/plain": [
       "array(['4c685', 'e1f71', '8167c', 'cbdda', '3a8b4', '83580', '499df',\n",
       "       '97d8a', '779fa', 'dae9a', 'f6891', 'd88d8', '1c0b6', '29762',\n",
       "       'fdc6c', '74003', '1695b', 'd8ba9', 'ae396', '9ca85', '70337',\n",
       "       'c8716', '93732', 'b902b', '0e2a5', '75a23', '07d11', 'fa58e',\n",
       "       '94aef', 'cbea0', 'bb761', '5f8f2', '8560a', '40074', '49aec',\n",
       "       'aaf24', '558e8', '9e531', 'd759b', '62ec7', '58ba4', '0f82e',\n",
       "       'd816b', 'b85ff', 'd88eb', '489ca', '9c787', '0ed6d', '69689',\n",
       "       '085e4', 'fb147', '7effe', '192b3', 'd900d', 'f767a', 'c3d0d',\n",
       "       '18b6b', 'a0bba', '8bacf', '4acd3', '201da', '721ad', '892e0',\n",
       "       '323a1', '07f97', '51570', 'c9bed', '8bed7', '37262', 'f216f',\n",
       "       '1bc48', '81a9f', '31330', 'fb46c', 'cc81e', 'ecc20', '9ec33',\n",
       "       'ae71d', '13729', '79539', '0b3ef', '615be', '12e7b', '13aa8',\n",
       "       'a131b', 'ee423', '9077a', '5f27d'], dtype=object)"
      ]
     },
     "execution_count": 28,
     "metadata": {},
     "output_type": "execute_result"
    }
   ],
   "source": [
    "sub"
   ]
  },
  {
   "cell_type": "code",
   "execution_count": 29,
   "metadata": {},
   "outputs": [
    {
     "data": {
      "text/html": [
       "<div>\n",
       "<style scoped>\n",
       "    .dataframe tbody tr th:only-of-type {\n",
       "        vertical-align: middle;\n",
       "    }\n",
       "\n",
       "    .dataframe tbody tr th {\n",
       "        vertical-align: top;\n",
       "    }\n",
       "\n",
       "    .dataframe thead th {\n",
       "        text-align: right;\n",
       "    }\n",
       "</style>\n",
       "<table border=\"1\" class=\"dataframe\">\n",
       "  <thead>\n",
       "    <tr style=\"text-align: right;\">\n",
       "      <th></th>\n",
       "      <th>index</th>\n",
       "      <th>branch_failpass</th>\n",
       "      <th>expt_id</th>\n",
       "      <th>group_id</th>\n",
       "      <th>network_error_repeat</th>\n",
       "      <th>participant_id</th>\n",
       "      <th>participation_duration</th>\n",
       "      <th>response_correct</th>\n",
       "      <th>response_mode</th>\n",
       "      <th>response_name</th>\n",
       "      <th>...</th>\n",
       "      <th>session_start_time</th>\n",
       "      <th>stimuli_presented</th>\n",
       "      <th>trial_duration</th>\n",
       "      <th>trial_num</th>\n",
       "      <th>trial_template</th>\n",
       "      <th>task</th>\n",
       "      <th>sub_id</th>\n",
       "      <th>exp</th>\n",
       "      <th>Correct</th>\n",
       "      <th>Shorter</th>\n",
       "    </tr>\n",
       "  </thead>\n",
       "  <tbody>\n",
       "    <tr>\n",
       "      <th>0</th>\n",
       "      <td>71</td>\n",
       "      <td>pass</td>\n",
       "      <td>6345b7f49677d36bd07c5a10</td>\n",
       "      <td>EXP8c_JF</td>\n",
       "      <td>0</td>\n",
       "      <td>4c685da32c0562c7f3203118347ebe68afd88aa9613a0c...</td>\n",
       "      <td>2422.600319</td>\n",
       "      <td>True</td>\n",
       "      <td>keypress</td>\n",
       "      <td>EXP8c_practiceRsp_s_J</td>\n",
       "      <td>...</td>\n",
       "      <td>2022-11-11 03:22:51-05:00</td>\n",
       "      <td>single_300ms_ontime_delay_2_tone_Lab_1</td>\n",
       "      <td>6985</td>\n",
       "      <td>72</td>\n",
       "      <td>EXP8c_practiceTrials_s_rv</td>\n",
       "      <td>practiceTrials</td>\n",
       "      <td>4c685</td>\n",
       "      <td>EXP8c</td>\n",
       "      <td>1</td>\n",
       "      <td>1</td>\n",
       "    </tr>\n",
       "    <tr>\n",
       "      <th>1</th>\n",
       "      <td>72</td>\n",
       "      <td>pass</td>\n",
       "      <td>6345b7f49677d36bd07c5a10</td>\n",
       "      <td>EXP8c_JF</td>\n",
       "      <td>0</td>\n",
       "      <td>4c685da32c0562c7f3203118347ebe68afd88aa9613a0c...</td>\n",
       "      <td>2422.600319</td>\n",
       "      <td>True</td>\n",
       "      <td>keypress</td>\n",
       "      <td>EXP8c_practiceRsp_l_F</td>\n",
       "      <td>...</td>\n",
       "      <td>2022-11-11 03:22:51-05:00</td>\n",
       "      <td>single_300ms_ontime_delay_2_tone_Lab_8</td>\n",
       "      <td>6276</td>\n",
       "      <td>73</td>\n",
       "      <td>EXP8c_practiceTrials_l_rv</td>\n",
       "      <td>practiceTrials</td>\n",
       "      <td>4c685</td>\n",
       "      <td>EXP8c</td>\n",
       "      <td>1</td>\n",
       "      <td>0</td>\n",
       "    </tr>\n",
       "    <tr>\n",
       "      <th>2</th>\n",
       "      <td>73</td>\n",
       "      <td>pass</td>\n",
       "      <td>6345b7f49677d36bd07c5a10</td>\n",
       "      <td>EXP8c_JF</td>\n",
       "      <td>0</td>\n",
       "      <td>4c685da32c0562c7f3203118347ebe68afd88aa9613a0c...</td>\n",
       "      <td>2422.600319</td>\n",
       "      <td>True</td>\n",
       "      <td>keypress</td>\n",
       "      <td>EXP8c_practiceRsp_s_J</td>\n",
       "      <td>...</td>\n",
       "      <td>2022-11-11 03:22:51-05:00</td>\n",
       "      <td>single_300ms_ontime_delay_2_tone_Lab_1</td>\n",
       "      <td>6266</td>\n",
       "      <td>74</td>\n",
       "      <td>EXP8c_practiceTrials_s_rv</td>\n",
       "      <td>practiceTrials</td>\n",
       "      <td>4c685</td>\n",
       "      <td>EXP8c</td>\n",
       "      <td>1</td>\n",
       "      <td>1</td>\n",
       "    </tr>\n",
       "    <tr>\n",
       "      <th>3</th>\n",
       "      <td>74</td>\n",
       "      <td>pass</td>\n",
       "      <td>6345b7f49677d36bd07c5a10</td>\n",
       "      <td>EXP8c_JF</td>\n",
       "      <td>0</td>\n",
       "      <td>4c685da32c0562c7f3203118347ebe68afd88aa9613a0c...</td>\n",
       "      <td>2422.600319</td>\n",
       "      <td>True</td>\n",
       "      <td>keypress</td>\n",
       "      <td>EXP8c_practiceRsp_l_F</td>\n",
       "      <td>...</td>\n",
       "      <td>2022-11-11 03:22:51-05:00</td>\n",
       "      <td>single_300ms_ontime_delay_2_tone_Lab_8</td>\n",
       "      <td>6126</td>\n",
       "      <td>75</td>\n",
       "      <td>EXP8c_practiceTrials_l_rv</td>\n",
       "      <td>practiceTrials</td>\n",
       "      <td>4c685</td>\n",
       "      <td>EXP8c</td>\n",
       "      <td>1</td>\n",
       "      <td>0</td>\n",
       "    </tr>\n",
       "    <tr>\n",
       "      <th>4</th>\n",
       "      <td>75</td>\n",
       "      <td>pass</td>\n",
       "      <td>6345b7f49677d36bd07c5a10</td>\n",
       "      <td>EXP8c_JF</td>\n",
       "      <td>0</td>\n",
       "      <td>4c685da32c0562c7f3203118347ebe68afd88aa9613a0c...</td>\n",
       "      <td>2422.600319</td>\n",
       "      <td>True</td>\n",
       "      <td>keypress</td>\n",
       "      <td>EXP8c_practiceRsp_s_J</td>\n",
       "      <td>...</td>\n",
       "      <td>2022-11-11 03:22:51-05:00</td>\n",
       "      <td>single_300ms_ontime_delay_2_tone_Lab_1</td>\n",
       "      <td>6027</td>\n",
       "      <td>76</td>\n",
       "      <td>EXP8c_practiceTrials_s_rv</td>\n",
       "      <td>practiceTrials</td>\n",
       "      <td>4c685</td>\n",
       "      <td>EXP8c</td>\n",
       "      <td>1</td>\n",
       "      <td>1</td>\n",
       "    </tr>\n",
       "    <tr>\n",
       "      <th>5</th>\n",
       "      <td>76</td>\n",
       "      <td>pass</td>\n",
       "      <td>6345b7f49677d36bd07c5a10</td>\n",
       "      <td>EXP8c_JF</td>\n",
       "      <td>0</td>\n",
       "      <td>4c685da32c0562c7f3203118347ebe68afd88aa9613a0c...</td>\n",
       "      <td>2422.600319</td>\n",
       "      <td>True</td>\n",
       "      <td>keypress</td>\n",
       "      <td>EXP8c_practiceRsp_l_F</td>\n",
       "      <td>...</td>\n",
       "      <td>2022-11-11 03:22:51-05:00</td>\n",
       "      <td>single_300ms_ontime_delay_2_tone_Lab_8</td>\n",
       "      <td>6093</td>\n",
       "      <td>77</td>\n",
       "      <td>EXP8c_practiceTrials_l_rv</td>\n",
       "      <td>practiceTrials</td>\n",
       "      <td>4c685</td>\n",
       "      <td>EXP8c</td>\n",
       "      <td>1</td>\n",
       "      <td>0</td>\n",
       "    </tr>\n",
       "    <tr>\n",
       "      <th>6</th>\n",
       "      <td>77</td>\n",
       "      <td>pass</td>\n",
       "      <td>6345b7f49677d36bd07c5a10</td>\n",
       "      <td>EXP8c_JF</td>\n",
       "      <td>0</td>\n",
       "      <td>4c685da32c0562c7f3203118347ebe68afd88aa9613a0c...</td>\n",
       "      <td>2422.600319</td>\n",
       "      <td>True</td>\n",
       "      <td>keypress</td>\n",
       "      <td>EXP8c_practiceRsp_l_F</td>\n",
       "      <td>...</td>\n",
       "      <td>2022-11-11 03:22:51-05:00</td>\n",
       "      <td>single_300ms_ontime_delay_2_tone_Lab_8</td>\n",
       "      <td>6192</td>\n",
       "      <td>78</td>\n",
       "      <td>EXP8c_practiceTrials_l_rv</td>\n",
       "      <td>practiceTrials</td>\n",
       "      <td>4c685</td>\n",
       "      <td>EXP8c</td>\n",
       "      <td>1</td>\n",
       "      <td>0</td>\n",
       "    </tr>\n",
       "    <tr>\n",
       "      <th>7</th>\n",
       "      <td>78</td>\n",
       "      <td>pass</td>\n",
       "      <td>6345b7f49677d36bd07c5a10</td>\n",
       "      <td>EXP8c_JF</td>\n",
       "      <td>0</td>\n",
       "      <td>4c685da32c0562c7f3203118347ebe68afd88aa9613a0c...</td>\n",
       "      <td>2422.600319</td>\n",
       "      <td>True</td>\n",
       "      <td>keypress</td>\n",
       "      <td>EXP8c_practiceRsp_s_J</td>\n",
       "      <td>...</td>\n",
       "      <td>2022-11-11 03:22:51-05:00</td>\n",
       "      <td>single_300ms_ontime_delay_2_tone_Lab_1</td>\n",
       "      <td>6082</td>\n",
       "      <td>79</td>\n",
       "      <td>EXP8c_practiceTrials_s_rv</td>\n",
       "      <td>practiceTrials</td>\n",
       "      <td>4c685</td>\n",
       "      <td>EXP8c</td>\n",
       "      <td>1</td>\n",
       "      <td>1</td>\n",
       "    </tr>\n",
       "    <tr>\n",
       "      <th>8</th>\n",
       "      <td>79</td>\n",
       "      <td>pass</td>\n",
       "      <td>6345b7f49677d36bd07c5a10</td>\n",
       "      <td>EXP8c_JF</td>\n",
       "      <td>0</td>\n",
       "      <td>4c685da32c0562c7f3203118347ebe68afd88aa9613a0c...</td>\n",
       "      <td>2422.600319</td>\n",
       "      <td>True</td>\n",
       "      <td>keypress</td>\n",
       "      <td>EXP8c_practiceRsp_s_J</td>\n",
       "      <td>...</td>\n",
       "      <td>2022-11-11 03:22:51-05:00</td>\n",
       "      <td>single_300ms_ontime_delay_2_tone_Lab_1</td>\n",
       "      <td>6042</td>\n",
       "      <td>80</td>\n",
       "      <td>EXP8c_practiceTrials_s_rv</td>\n",
       "      <td>practiceTrials</td>\n",
       "      <td>4c685</td>\n",
       "      <td>EXP8c</td>\n",
       "      <td>1</td>\n",
       "      <td>1</td>\n",
       "    </tr>\n",
       "    <tr>\n",
       "      <th>9</th>\n",
       "      <td>80</td>\n",
       "      <td>pass</td>\n",
       "      <td>6345b7f49677d36bd07c5a10</td>\n",
       "      <td>EXP8c_JF</td>\n",
       "      <td>0</td>\n",
       "      <td>4c685da32c0562c7f3203118347ebe68afd88aa9613a0c...</td>\n",
       "      <td>2422.600319</td>\n",
       "      <td>True</td>\n",
       "      <td>keypress</td>\n",
       "      <td>EXP8c_practiceRsp_l_F</td>\n",
       "      <td>...</td>\n",
       "      <td>2022-11-11 03:22:51-05:00</td>\n",
       "      <td>single_300ms_ontime_delay_2_tone_Lab_8</td>\n",
       "      <td>6005</td>\n",
       "      <td>81</td>\n",
       "      <td>EXP8c_practiceTrials_l_rv</td>\n",
       "      <td>practiceTrials</td>\n",
       "      <td>4c685</td>\n",
       "      <td>EXP8c</td>\n",
       "      <td>1</td>\n",
       "      <td>0</td>\n",
       "    </tr>\n",
       "  </tbody>\n",
       "</table>\n",
       "<p>10 rows × 25 columns</p>\n",
       "</div>"
      ],
      "text/plain": [
       "   index branch_failpass                   expt_id  group_id  \\\n",
       "0     71            pass  6345b7f49677d36bd07c5a10  EXP8c_JF   \n",
       "1     72            pass  6345b7f49677d36bd07c5a10  EXP8c_JF   \n",
       "2     73            pass  6345b7f49677d36bd07c5a10  EXP8c_JF   \n",
       "3     74            pass  6345b7f49677d36bd07c5a10  EXP8c_JF   \n",
       "4     75            pass  6345b7f49677d36bd07c5a10  EXP8c_JF   \n",
       "5     76            pass  6345b7f49677d36bd07c5a10  EXP8c_JF   \n",
       "6     77            pass  6345b7f49677d36bd07c5a10  EXP8c_JF   \n",
       "7     78            pass  6345b7f49677d36bd07c5a10  EXP8c_JF   \n",
       "8     79            pass  6345b7f49677d36bd07c5a10  EXP8c_JF   \n",
       "9     80            pass  6345b7f49677d36bd07c5a10  EXP8c_JF   \n",
       "\n",
       "   network_error_repeat                                     participant_id  \\\n",
       "0                     0  4c685da32c0562c7f3203118347ebe68afd88aa9613a0c...   \n",
       "1                     0  4c685da32c0562c7f3203118347ebe68afd88aa9613a0c...   \n",
       "2                     0  4c685da32c0562c7f3203118347ebe68afd88aa9613a0c...   \n",
       "3                     0  4c685da32c0562c7f3203118347ebe68afd88aa9613a0c...   \n",
       "4                     0  4c685da32c0562c7f3203118347ebe68afd88aa9613a0c...   \n",
       "5                     0  4c685da32c0562c7f3203118347ebe68afd88aa9613a0c...   \n",
       "6                     0  4c685da32c0562c7f3203118347ebe68afd88aa9613a0c...   \n",
       "7                     0  4c685da32c0562c7f3203118347ebe68afd88aa9613a0c...   \n",
       "8                     0  4c685da32c0562c7f3203118347ebe68afd88aa9613a0c...   \n",
       "9                     0  4c685da32c0562c7f3203118347ebe68afd88aa9613a0c...   \n",
       "\n",
       "   participation_duration response_correct response_mode  \\\n",
       "0             2422.600319             True      keypress   \n",
       "1             2422.600319             True      keypress   \n",
       "2             2422.600319             True      keypress   \n",
       "3             2422.600319             True      keypress   \n",
       "4             2422.600319             True      keypress   \n",
       "5             2422.600319             True      keypress   \n",
       "6             2422.600319             True      keypress   \n",
       "7             2422.600319             True      keypress   \n",
       "8             2422.600319             True      keypress   \n",
       "9             2422.600319             True      keypress   \n",
       "\n",
       "           response_name  ...         session_start_time  \\\n",
       "0  EXP8c_practiceRsp_s_J  ...  2022-11-11 03:22:51-05:00   \n",
       "1  EXP8c_practiceRsp_l_F  ...  2022-11-11 03:22:51-05:00   \n",
       "2  EXP8c_practiceRsp_s_J  ...  2022-11-11 03:22:51-05:00   \n",
       "3  EXP8c_practiceRsp_l_F  ...  2022-11-11 03:22:51-05:00   \n",
       "4  EXP8c_practiceRsp_s_J  ...  2022-11-11 03:22:51-05:00   \n",
       "5  EXP8c_practiceRsp_l_F  ...  2022-11-11 03:22:51-05:00   \n",
       "6  EXP8c_practiceRsp_l_F  ...  2022-11-11 03:22:51-05:00   \n",
       "7  EXP8c_practiceRsp_s_J  ...  2022-11-11 03:22:51-05:00   \n",
       "8  EXP8c_practiceRsp_s_J  ...  2022-11-11 03:22:51-05:00   \n",
       "9  EXP8c_practiceRsp_l_F  ...  2022-11-11 03:22:51-05:00   \n",
       "\n",
       "                        stimuli_presented trial_duration trial_num  \\\n",
       "0  single_300ms_ontime_delay_2_tone_Lab_1           6985        72   \n",
       "1  single_300ms_ontime_delay_2_tone_Lab_8           6276        73   \n",
       "2  single_300ms_ontime_delay_2_tone_Lab_1           6266        74   \n",
       "3  single_300ms_ontime_delay_2_tone_Lab_8           6126        75   \n",
       "4  single_300ms_ontime_delay_2_tone_Lab_1           6027        76   \n",
       "5  single_300ms_ontime_delay_2_tone_Lab_8           6093        77   \n",
       "6  single_300ms_ontime_delay_2_tone_Lab_8           6192        78   \n",
       "7  single_300ms_ontime_delay_2_tone_Lab_1           6082        79   \n",
       "8  single_300ms_ontime_delay_2_tone_Lab_1           6042        80   \n",
       "9  single_300ms_ontime_delay_2_tone_Lab_8           6005        81   \n",
       "\n",
       "              trial_template            task sub_id    exp  Correct Shorter  \n",
       "0  EXP8c_practiceTrials_s_rv  practiceTrials  4c685  EXP8c        1       1  \n",
       "1  EXP8c_practiceTrials_l_rv  practiceTrials  4c685  EXP8c        1       0  \n",
       "2  EXP8c_practiceTrials_s_rv  practiceTrials  4c685  EXP8c        1       1  \n",
       "3  EXP8c_practiceTrials_l_rv  practiceTrials  4c685  EXP8c        1       0  \n",
       "4  EXP8c_practiceTrials_s_rv  practiceTrials  4c685  EXP8c        1       1  \n",
       "5  EXP8c_practiceTrials_l_rv  practiceTrials  4c685  EXP8c        1       0  \n",
       "6  EXP8c_practiceTrials_l_rv  practiceTrials  4c685  EXP8c        1       0  \n",
       "7  EXP8c_practiceTrials_s_rv  practiceTrials  4c685  EXP8c        1       1  \n",
       "8  EXP8c_practiceTrials_s_rv  practiceTrials  4c685  EXP8c        1       1  \n",
       "9  EXP8c_practiceTrials_l_rv  practiceTrials  4c685  EXP8c        1       0  \n",
       "\n",
       "[10 rows x 25 columns]"
      ]
     },
     "execution_count": 29,
     "metadata": {},
     "output_type": "execute_result"
    }
   ],
   "source": [
    "df_prac[:10]"
   ]
  },
  {
   "cell_type": "code",
   "execution_count": null,
   "metadata": {},
   "outputs": [],
   "source": [
    "df_clean_all = df_clean # create a new variable just in case"
   ]
  },
  {
   "cell_type": "markdown",
   "metadata": {},
   "source": [
    "### Select the main trials"
   ]
  },
  {
   "cell_type": "code",
   "execution_count": null,
   "metadata": {},
   "outputs": [],
   "source": [
    "df_clean = df_clean[(df_clean['task'] == \"maintaskTrials\")].reset_index(drop = True)\n",
    "conds = df_clean['stimuli_presented'].unique()\n",
    "print(conds) # check the conditions"
   ]
  },
  {
   "cell_type": "code",
   "execution_count": null,
   "metadata": {},
   "outputs": [],
   "source": [
    "## Create new cols for onset and length\n",
    "onset = []\n",
    "length = []\n",
    "df_clean = df_clean.set_index(pd.Index(np.arange(0,len(df_clean)))) # change the index for the for loop\n",
    "\n",
    "for i in np.arange(0,len(df_clean)):\n",
    "    stimuli_presented = df_clean['stimuli_presented'][i].split('_')\n",
    "    onset.append(stimuli_presented[2])\n",
    "    length.append(stimuli_presented[-1])\n",
    "df_clean['Onset'] = onset\n",
    "df_clean['Length'] = length"
   ]
  },
  {
   "cell_type": "markdown",
   "metadata": {},
   "source": [
    "### Accuracy\n",
    "#### Not for EXP8c"
   ]
  },
  {
   "cell_type": "code",
   "execution_count": null,
   "metadata": {},
   "outputs": [],
   "source": [
    "# df_clean.groupby(['Onset'])['Correct'].mean()"
   ]
  },
  {
   "cell_type": "code",
   "execution_count": null,
   "metadata": {},
   "outputs": [],
   "source": [
    "# accuracy_all = df_clean.groupby(['stimuli_presented','Onset'])['Correct'].mean()"
   ]
  },
  {
   "cell_type": "code",
   "execution_count": null,
   "metadata": {},
   "outputs": [],
   "source": [
    "# ## consider outliers based on the accuracy of the easiest trials \n",
    "# outliers = Acc_easiest < threshold\n",
    "# outliers = outliers[outliers == True]\n",
    "# df_clean_nooutlier = df_clean[~df_clean['participant_id'].isin(outliers.index)]"
   ]
  },
  {
   "cell_type": "code",
   "execution_count": null,
   "metadata": {},
   "outputs": [],
   "source": [
    "# ## Visualization: bar plot\n",
    "# ACC_plot = pd.DataFrame({'Conditions': conds, 'accuracy': accuracy_all})\n",
    "# ax = ACC_plot.plot.bar(rot = 0)"
   ]
  },
  {
   "cell_type": "markdown",
   "metadata": {},
   "source": [
    "### Proportion short"
   ]
  },
  {
   "cell_type": "code",
   "execution_count": null,
   "metadata": {},
   "outputs": [],
   "source": [
    "print(\"Proportion Short\")\n",
    "print(df_clean.groupby(['Onset'])['Shorter'].mean())"
   ]
  },
  {
   "cell_type": "code",
   "execution_count": null,
   "metadata": {},
   "outputs": [],
   "source": [
    "pps = df_clean.groupby(['Onset'])['Shorter'].mean()"
   ]
  },
  {
   "cell_type": "code",
   "execution_count": null,
   "metadata": {},
   "outputs": [],
   "source": [
    "pps_all = df_clean.groupby(['stimuli_presented','Onset'])['Shorter'].mean()"
   ]
  },
  {
   "cell_type": "code",
   "execution_count": null,
   "metadata": {},
   "outputs": [],
   "source": [
    "## Visualization: bar plot\n",
    "PPS_plot = pd.DataFrame({'Conditions': conds, 'PSS': pps_all})\n",
    "ax = PPS_plot.plot.bar(rot = 0)\n",
    "pps_all.plot(style='k--')"
   ]
  },
  {
   "cell_type": "code",
   "execution_count": null,
   "metadata": {},
   "outputs": [],
   "source": [
    "pps_all[0:8].plot(style = 'o-') # early\n",
    "pps_all[8:16].plot(style ='ko-') # late\n",
    "ax = pps_all[16:24].plot(style ='ro-') # ontime\n",
    "ax.set_xticklabels([0,1,2,3,4,5,6,7,8])"
   ]
  },
  {
   "cell_type": "markdown",
   "metadata": {},
   "source": [
    "### Statistic tests"
   ]
  },
  {
   "cell_type": "code",
   "execution_count": null,
   "metadata": {},
   "outputs": [],
   "source": [
    "PPS = df_clean.groupby(['sub_id','Onset'])['Shorter'].mean()\n",
    "PPS_early = PPS[::3]\n",
    "PPS_ontime = PPS[2::3]\n",
    "PPS_late = PPS[1::3]"
   ]
  },
  {
   "cell_type": "code",
   "execution_count": null,
   "metadata": {},
   "outputs": [],
   "source": [
    "print(stats.ttest_rel(PPS_early, PPS_late))\n",
    "print(stats.ttest_rel(PPS_early, PPS_ontime))\n",
    "print(stats.ttest_rel(PPS_late, PPS_ontime))"
   ]
  },
  {
   "cell_type": "markdown",
   "metadata": {},
   "source": [
    "## Save to the csv file for R analysis"
   ]
  },
  {
   "cell_type": "code",
   "execution_count": null,
   "metadata": {},
   "outputs": [],
   "source": [
    "## save df to csv\n",
    "df_clean.to_csv(path_to_data+\"exp8_clean.csv\", header=True)\n",
    "print('Cleaned data saved!')"
   ]
  }
 ],
 "metadata": {
  "kernelspec": {
   "display_name": "Python 3 (ipykernel)",
   "language": "python",
   "name": "python3"
  },
  "language_info": {
   "codemirror_mode": {
    "name": "ipython",
    "version": 3
   },
   "file_extension": ".py",
   "mimetype": "text/x-python",
   "name": "python",
   "nbconvert_exporter": "python",
   "pygments_lexer": "ipython3",
   "version": "3.7.6"
  },
  "vscode": {
   "interpreter": {
    "hash": "e774977668b7c0ae8309835a5187aa7fbf7669e7d0bb59755bc63e573643edcd"
   }
  }
 },
 "nbformat": 4,
 "nbformat_minor": 4
}
