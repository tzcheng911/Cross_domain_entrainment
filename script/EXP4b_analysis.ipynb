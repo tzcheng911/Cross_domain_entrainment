{
 "cells": [
  {
   "cell_type": "markdown",
   "metadata": {},
   "source": [
    "## Initialization\n",
    "- Import the package\n",
    "- Import the data"
   ]
  },
  {
   "cell_type": "code",
   "execution_count": 1,
   "metadata": {},
   "outputs": [],
   "source": [
    "import csv\n",
    "import numpy as np\n",
    "import pandas as pd\n",
    "from collections import defaultdict\n",
    "import string\n",
    "import seaborn as sns\n",
    "import matplotlib.pyplot as plt\n",
    "from scipy import stats\n",
    "from sklearn import linear_model\n",
    "from sklearn import metrics # confusion matrix, MSE etc."
   ]
  },
  {
   "cell_type": "code",
   "execution_count": 2,
   "metadata": {},
   "outputs": [],
   "source": [
    "path_to_data = '/Users/t.z.cheng/Google_Drive/Research/Delaydoesmatter/real_exp/exp4_20CR12/results_shortlongdelay_2021/v2_20CR12_clean_n67.csv'"
   ]
  },
  {
   "cell_type": "code",
   "execution_count": 3,
   "metadata": {},
   "outputs": [],
   "source": [
    "## Read the data\n",
    "df = pd.read_csv(path_to_data)\n",
    "# df_clean = df\n",
    "## Take a look of the dataset\n",
    "# df.head()\n",
    "# df.tail()\n",
    "# df.loc[558:663] # see specific rows of data"
   ]
  },
  {
   "cell_type": "code",
   "execution_count": 4,
   "metadata": {},
   "outputs": [],
   "source": [
    "## Clean up task and subject ID (first five characters)\n",
    "df['task'] = df['trial_template'].apply(lambda x: x.split(\"_\")[0])\n",
    "df['sub_id'] = df['participant_id'].apply(lambda x: x.split()[0][0:5])"
   ]
  },
  {
   "cell_type": "code",
   "execution_count": 5,
   "metadata": {},
   "outputs": [],
   "source": [
    "## Add the accuracy and PPS column to the dataset: transform True and Shorter to 1, False and longer to 0\n",
    "Correct = []\n",
    "Shorter = []\n",
    "for i in np.arange(0,len(df)):\n",
    "    if df['response_correct'][i] == True:\n",
    "        Correct.append(1)\n",
    "    else: \n",
    "        Correct.append(0)\n",
    "    if df['response_value'][i] == \"Shorter\":\n",
    "        Shorter.append(1)\n",
    "    else: \n",
    "        Shorter.append(0)\n",
    "df['Correct'] = Correct\n",
    "df['Shorter'] = Shorter"
   ]
  },
  {
   "cell_type": "code",
   "execution_count": 6,
   "metadata": {},
   "outputs": [],
   "source": [
    "## for exp8abc\n",
    "df['exp'] = df['group_id'].apply(lambda x: x.split(\"_\")[0])\n",
    "df_exp8b = df[(df['exp'] == 'EXP8b')].reset_index(drop = True)\n",
    "df = df_exp8b"
   ]
  },
  {
   "cell_type": "markdown",
   "metadata": {},
   "source": [
    "## Set parameters\n",
    "- Accuracy threshold for the easiest trials of the main task \n",
    "- Extreme RT threshold\n",
    "- Catch trial accuracy"
   ]
  },
  {
   "cell_type": "code",
   "execution_count": 10,
   "metadata": {},
   "outputs": [],
   "source": [
    "## Parameters\n",
    "threshold = .55\n",
    "catch_threshold = .8\n",
    "RT_threshold = 10000"
   ]
  },
  {
   "cell_type": "markdown",
   "metadata": {},
   "source": [
    "## Data cleaning \n",
    "***Super important: df_clean is overwritten after each step of data cleaning***\n",
    "\n",
    "**Reject subjects**\n",
    "- Practice accuracy in conditional branching block\n",
    "- Catch trial\n",
    "- Environmental noise & audio device (may not need to use them as criteria)\n",
    "\n",
    "**Reject trials**\n",
    "- Task-relevant trials\n",
    "- Extreme RT"
   ]
  },
  {
   "cell_type": "markdown",
   "metadata": {},
   "source": [
    "### Reject subjects "
   ]
  },
  {
   "cell_type": "code",
   "execution_count": 24,
   "metadata": {},
   "outputs": [
    {
     "data": {
      "text/plain": [
       "participant_id\n",
       "0097603477ed55788b94a36df69f1bd7a071cdd1dc3df0f06c91edfc7401f39e    26\n",
       "00d1c966a138b621ff1fa81d1b1e9e4370da03fea970cd89d3b62912191629ee    26\n",
       "06c85661bb53c8683cdfedcb43aa14a04dce6c362d0cfe1c642961af74597273    26\n",
       "07bd139a6d306ea8abb5d14f46259b99a4be49551319dd7bbf21ca871b565822    26\n",
       "0f4126524237a59c94a37288e80a7da59ecda8437ded7902157a66313d9bb026    26\n",
       "1d7b3e90bee82a78a33ef23a1c42e0a0edf98658382e82707137b15ba2763ce0    26\n",
       "204ec71efa357ec23e14adb8c01199e786d0a28725714074cf1cb7602309ecbb    26\n",
       "284211100c491c17fdf47a2751dc63a24bf884ebfdb6158d127c10f2109b7241    26\n",
       "29176d5b94bbdcc7fc39850b8e42d221e4907e4b3aa6c76fc694ff59a21b4273    26\n",
       "2c711231f47813aa8cd2120d86bec06052ef0ddd0351448721d1bc825be74b69    26\n",
       "31aad6fa89d4b68139ace5e09b313f7cfa50e4bac9f55ea5dbd33f93d2df5fdb    26\n",
       "348dc50420bbc29c1b5aeeea90af3e36cb7ef9688316cd34b4bc05743d7c55da    26\n",
       "50bc7439a90a5aa6ac0b426ad2fc96da4497958fabee595a176da3b5cd08308d    26\n",
       "51d74d50a0c7618caf43e2d4b1daf3ae9642783bdd79a063cb93b96b90232376    26\n",
       "53844dd089d764876f0a38e5ecc403ef64472b5942baaa0e552b4662df9977d5    26\n",
       "568c08ae6ccdb50f838ebf987b8e61eb74f8c237629f29c5e3a62d5339bbf926    26\n",
       "5ccc698f0a313680d2136de89a586054c1484cd3ef1449a69318a02430b42ea6    26\n",
       "645bc518bcad0f87543a1137f517ebf8f88801711260c6fa482b6edf37d13e88    26\n",
       "6a2be7a0e4d74a534660f1681288003f23035ab2fa81521473fa257f6d351f96    26\n",
       "7422f8893e655f577824e8fb969fd67af01c25aff38b01c16b6a4c95399cfef5    26\n",
       "759fe5e084030c10142f2d39cf44bb9b6f997e0e60da8c4df2ca3d55b6e0991b    26\n",
       "9319e56f2276609aaf67ed5d24a3decb4d2ec9cd78da2002a103f62ef727343d    26\n",
       "933bd5b9516d95cf9337b9f14340cc0ee69888cbe482eb7831d6181ecf5baf3c    26\n",
       "b51e977042ec7be30d2935aae84f40093fc40873810cea9b6ca64bf2ca30947d    26\n",
       "b7deae31c0dbee620ba1b4adcdcc50730bda930b055781e8ba255d80fedaee43    26\n",
       "bac300257ecef5e041eb9799bfa16223ec1f44ae72b5f36484b80ceb36117045    26\n",
       "c9f4993e7b910bedc93b5d698964f03c3b22b0d495d71d6eaabeb0f1f8cbf66b    26\n",
       "ca163583ff6065ae5c61ae37b7aec67c7085394c89ae109aa45eadbb2512c247    26\n",
       "d0a6684a51a6b0f60fa01a518f1851dcd7e495af7f5ce8a3e679cce27ca6220c    26\n",
       "dcec1e72450b5f36a231e0dc1ed636927ed7bbf981c2b30944015f0b57d9da0a    26\n",
       "de6513b668cdeef144f57eef956ca9af38101e5156f8a65361c93450cc899a6b    26\n",
       "f17266e551bfa38b5b0b045cf11e83922efdc1088035afeb134cd305a639e91a    26\n",
       "Name: response_correct, dtype: int64"
      ]
     },
     "execution_count": 24,
     "metadata": {},
     "output_type": "execute_result"
    }
   ],
   "source": [
    "df_catch.groupby('participant_id')['response_correct'].count()"
   ]
  },
  {
   "cell_type": "code",
   "execution_count": 25,
   "metadata": {},
   "outputs": [
    {
     "data": {
      "text/plain": [
       "sub_id\n",
       "06c85    0.461538\n",
       "759fe    0.692308\n",
       "c9f49    0.576923\n",
       "f1726    0.653846\n",
       "Name: response_correct, dtype: float64"
      ]
     },
     "execution_count": 25,
     "metadata": {},
     "output_type": "execute_result"
    }
   ],
   "source": [
    "## How many subjects miss the catch trial \n",
    "catch_trials = ['Catch_beat','Catch_bag']\n",
    "catch_trials = ['Catch_trials'] ## for exp8abc\n",
    "\n",
    "df_catch = df[(df['trial_template'].isin(catch_trials))].reset_index(drop = True) # reset index from 1\n",
    "catch_acc = df_catch.groupby('sub_id')['response_correct'].sum()/df_catch.groupby('sub_id')['response_correct'].count()\n",
    "catch_acc[catch_acc < catch_threshold]"
   ]
  },
  {
   "cell_type": "code",
   "execution_count": 26,
   "metadata": {},
   "outputs": [
    {
     "name": "stdout",
     "output_type": "stream",
     "text": [
      "How many subjects passed the practice trials: 28 out of 32\n"
     ]
    }
   ],
   "source": [
    "## How many subjects pass the practice > 0.75 on the easiest ontime trials \n",
    "df_clean = df[df['branch_failpass'] == 'pass'].reset_index(drop = True)\n",
    "print('How many subjects passed the practice trials:', len(df_clean['sub_id'].unique())\n",
    "      ,'out of',len(df['sub_id'].unique()))"
   ]
  },
  {
   "cell_type": "code",
   "execution_count": 27,
   "metadata": {
    "scrolled": true
   },
   "outputs": [
    {
     "data": {
      "text/html": [
       "<div>\n",
       "<style scoped>\n",
       "    .dataframe tbody tr th:only-of-type {\n",
       "        vertical-align: middle;\n",
       "    }\n",
       "\n",
       "    .dataframe tbody tr th {\n",
       "        vertical-align: top;\n",
       "    }\n",
       "\n",
       "    .dataframe thead th {\n",
       "        text-align: right;\n",
       "    }\n",
       "</style>\n",
       "<table border=\"1\" class=\"dataframe\">\n",
       "  <thead>\n",
       "    <tr style=\"text-align: right;\">\n",
       "      <th></th>\n",
       "      <th>sub_id</th>\n",
       "      <th>response_value</th>\n",
       "    </tr>\n",
       "  </thead>\n",
       "  <tbody>\n",
       "  </tbody>\n",
       "</table>\n",
       "</div>"
      ],
      "text/plain": [
       "Empty DataFrame\n",
       "Columns: [sub_id, response_value]\n",
       "Index: []"
      ]
     },
     "execution_count": 27,
     "metadata": {},
     "output_type": "execute_result"
    }
   ],
   "source": [
    "## How many subjects had a bad environmental noise and device\n",
    "df_noise = df[(df['response_name'] == 'survey_noise')].reset_index(drop = True)\n",
    "noise = df_noise.groupby('sub_id')['response_value'].sum()\n",
    "df_device = df[(df['response_name'] == 'survey_headphone')].reset_index(drop = True)\n",
    "df_device[['sub_id','response_value']]"
   ]
  },
  {
   "cell_type": "markdown",
   "metadata": {},
   "source": [
    "### Task relevant trials"
   ]
  },
  {
   "cell_type": "code",
   "execution_count": 28,
   "metadata": {},
   "outputs": [],
   "source": [
    "## subj id\n",
    "subID = df['sub_id'].unique()"
   ]
  },
  {
   "cell_type": "code",
   "execution_count": 29,
   "metadata": {},
   "outputs": [],
   "source": [
    "## All condition\n",
    "conds = ['single_300ms_delay_2_51','single_300ms_delay_2_52','single_300ms_delay_2_53','single_300ms_delay_2_54','single_300ms_delay_2_55','single_300ms_delay_2_56',\n",
    "        'single_300ms_delay_2_81','single_300ms_delay_2_82','single_300ms_delay_2_83','single_300ms_delay_2_84','single_300ms_delay_2_85','single_300ms_delay_2_86',\n",
    "        'single_300ms_delay_2_91','single_300ms_delay_2_92','single_300ms_delay_2_93','single_300ms_delay_2_94','single_300ms_delay_2_95','single_300ms_delay_2_96',\n",
    "        'single_300ms_delay_4_51','single_300ms_delay_4_52','single_300ms_delay_4_53','single_300ms_delay_4_54','single_300ms_delay_4_55','single_300ms_delay_4_56',\n",
    "        'single_300ms_delay_4_81','single_300ms_delay_4_82','single_300ms_delay_4_83','single_300ms_delay_4_84','single_300ms_delay_4_85','single_300ms_delay_4_86',\n",
    "        'single_300ms_delay_4_91','single_300ms_delay_4_92','single_300ms_delay_4_93','single_300ms_delay_4_94','single_300ms_delay_4_95','single_300ms_delay_4_96']"
   ]
  },
  {
   "cell_type": "code",
   "execution_count": 30,
   "metadata": {},
   "outputs": [],
   "source": [
    "## Conditions short\n",
    "conds = ['single_300ms_delay_2_51','single_300ms_delay_2_52','single_300ms_delay_2_53','single_300ms_delay_2_54','single_300ms_delay_2_55','single_300ms_delay_2_56',\n",
    "        'single_300ms_delay_2_81','single_300ms_delay_2_82','single_300ms_delay_2_83','single_300ms_delay_2_84','single_300ms_delay_2_85','single_300ms_delay_2_86',\n",
    "        'single_300ms_delay_2_91','single_300ms_delay_2_92','single_300ms_delay_2_93','single_300ms_delay_2_94','single_300ms_delay_2_95','single_300ms_delay_2_96']"
   ]
  },
  {
   "cell_type": "code",
   "execution_count": 31,
   "metadata": {},
   "outputs": [],
   "source": [
    "## Conditions long\n",
    "conds = ['single_300ms_delay_4_51','single_300ms_delay_4_52','single_300ms_delay_4_53','single_300ms_delay_4_54','single_300ms_delay_4_55','single_300ms_delay_4_56',\n",
    "        'single_300ms_delay_4_81','single_300ms_delay_4_82','single_300ms_delay_4_83','single_300ms_delay_4_84','single_300ms_delay_4_85','single_300ms_delay_4_86',\n",
    "        'single_300ms_delay_4_91','single_300ms_delay_4_92','single_300ms_delay_4_93','single_300ms_delay_4_94','single_300ms_delay_4_95','single_300ms_delay_4_96']"
   ]
  },
  {
   "cell_type": "code",
   "execution_count": 32,
   "metadata": {},
   "outputs": [],
   "source": [
    "## Tasks & Conditions pretest\n",
    "pretest_conds = ['short_tone_1','long_tone_6']\n",
    "subID = df_clean['sub_id'].unique()"
   ]
  },
  {
   "cell_type": "code",
   "execution_count": 33,
   "metadata": {},
   "outputs": [],
   "source": [
    "## select the main trials \n",
    "df_clean = df[(df['stimuli_presented'].isin(conds)) & (df['task'] == \"maintaskTrials\")].reset_index(drop = True)"
   ]
  },
  {
   "cell_type": "code",
   "execution_count": 34,
   "metadata": {},
   "outputs": [],
   "source": [
    "## select the pretest trials \n",
    "df_clean = df[(df['stimuli_presented'].isin(conds)) & (df['task'] == \"pretestTrials\")].reset_index(drop = True)"
   ]
  },
  {
   "cell_type": "code",
   "execution_count": 35,
   "metadata": {},
   "outputs": [],
   "source": [
    "## Long format for each condition\n",
    "# B/T: presenting order & response key\n",
    "# W/I: Onset time, comparison length, delay length\n",
    "df_clean['onset'] = df_clean['stimuli_presented'].apply(lambda x: x.split(\"_\")[-1][0])\n",
    "df_clean['delay'] = df_clean['stimuli_presented'].apply(lambda x: x.split(\"_\")[-2])\n",
    "df_clean['comparison'] = df_clean['stimuli_presented'].apply(lambda x: x.split(\"_\")[-1][1])\n",
    "df_clean['order'] = df_clean['group_id'].apply(lambda x: x.split(\"_\")[-1])\n",
    "df_clean['key'] = df_clean['group_id'].apply(lambda x: x.split(\"_\")[-2])"
   ]
  },
  {
   "cell_type": "code",
   "execution_count": null,
   "metadata": {},
   "outputs": [],
   "source": []
  },
  {
   "cell_type": "markdown",
   "metadata": {},
   "source": [
    "### Extreme reaction time"
   ]
  },
  {
   "cell_type": "code",
   "execution_count": 36,
   "metadata": {},
   "outputs": [],
   "source": [
    "df_clean_longRT = df_clean[df_clean['response_rt'] > RT_threshold]"
   ]
  },
  {
   "cell_type": "markdown",
   "metadata": {},
   "source": [
    "## Analyze noise and overall accuracy/catch accuracy"
   ]
  },
  {
   "cell_type": "code",
   "execution_count": 37,
   "metadata": {},
   "outputs": [],
   "source": [
    "noise = noise.astype(int) # turn str to int to do correlaton\n",
    "acc = df_clean.groupby('sub_id')['response_correct'].sum()/\\\n",
    "df_clean.groupby('sub_id')['response_correct'].count()"
   ]
  },
  {
   "cell_type": "code",
   "execution_count": 38,
   "metadata": {},
   "outputs": [
    {
     "ename": "ValueError",
     "evalue": "all the input array dimensions for the concatenation axis must match exactly, but along dimension 1, the array at index 0 has size 32 and the array at index 1 has size 0",
     "output_type": "error",
     "traceback": [
      "\u001b[0;31m---------------------------------------------------------------------------\u001b[0m",
      "\u001b[0;31mValueError\u001b[0m                                Traceback (most recent call last)",
      "\u001b[0;32m/var/folders/w3/hvly9pws0r11d56ls2x71l1h0000gn/T/ipykernel_2165/2494410312.py\u001b[0m in \u001b[0;36m<module>\u001b[0;34m\u001b[0m\n\u001b[0;32m----> 1\u001b[0;31m \u001b[0mcorr\u001b[0m \u001b[0;34m=\u001b[0m \u001b[0mnp\u001b[0m\u001b[0;34m.\u001b[0m\u001b[0mcorrcoef\u001b[0m\u001b[0;34m(\u001b[0m\u001b[0mnoise\u001b[0m\u001b[0;34m,\u001b[0m\u001b[0macc\u001b[0m\u001b[0;34m)\u001b[0m\u001b[0;34m[\u001b[0m\u001b[0;36m0\u001b[0m\u001b[0;34m,\u001b[0m\u001b[0;36m1\u001b[0m\u001b[0;34m]\u001b[0m\u001b[0;34m\u001b[0m\u001b[0;34m\u001b[0m\u001b[0m\n\u001b[0m\u001b[1;32m      2\u001b[0m \u001b[0mprint\u001b[0m\u001b[0;34m(\u001b[0m\u001b[0mcorr\u001b[0m\u001b[0;34m,\u001b[0m \u001b[0;34m'\\n'\u001b[0m\u001b[0;34m)\u001b[0m\u001b[0;34m\u001b[0m\u001b[0;34m\u001b[0m\u001b[0m\n\u001b[1;32m      3\u001b[0m \u001b[0mcorr\u001b[0m \u001b[0;34m=\u001b[0m \u001b[0mnp\u001b[0m\u001b[0;34m.\u001b[0m\u001b[0mcorrcoef\u001b[0m\u001b[0;34m(\u001b[0m\u001b[0mnoise\u001b[0m\u001b[0;34m,\u001b[0m\u001b[0mcatch_acc\u001b[0m\u001b[0;34m)\u001b[0m\u001b[0;34m[\u001b[0m\u001b[0;36m0\u001b[0m\u001b[0;34m,\u001b[0m\u001b[0;36m1\u001b[0m\u001b[0;34m]\u001b[0m\u001b[0;34m\u001b[0m\u001b[0;34m\u001b[0m\u001b[0m\n\u001b[1;32m      4\u001b[0m \u001b[0mprint\u001b[0m\u001b[0;34m(\u001b[0m\u001b[0mcorr\u001b[0m\u001b[0;34m,\u001b[0m \u001b[0;34m'\\n'\u001b[0m\u001b[0;34m)\u001b[0m\u001b[0;34m\u001b[0m\u001b[0;34m\u001b[0m\u001b[0m\n",
      "\u001b[0;32m<__array_function__ internals>\u001b[0m in \u001b[0;36mcorrcoef\u001b[0;34m(*args, **kwargs)\u001b[0m\n",
      "\u001b[0;32m/usr/local/lib/python3.7/site-packages/numpy/lib/function_base.py\u001b[0m in \u001b[0;36mcorrcoef\u001b[0;34m(x, y, rowvar, bias, ddof)\u001b[0m\n\u001b[1;32m   2524\u001b[0m         warnings.warn('bias and ddof have no effect and are deprecated',\n\u001b[1;32m   2525\u001b[0m                       DeprecationWarning, stacklevel=3)\n\u001b[0;32m-> 2526\u001b[0;31m     \u001b[0mc\u001b[0m \u001b[0;34m=\u001b[0m \u001b[0mcov\u001b[0m\u001b[0;34m(\u001b[0m\u001b[0mx\u001b[0m\u001b[0;34m,\u001b[0m \u001b[0my\u001b[0m\u001b[0;34m,\u001b[0m \u001b[0mrowvar\u001b[0m\u001b[0;34m)\u001b[0m\u001b[0;34m\u001b[0m\u001b[0;34m\u001b[0m\u001b[0m\n\u001b[0m\u001b[1;32m   2527\u001b[0m     \u001b[0;32mtry\u001b[0m\u001b[0;34m:\u001b[0m\u001b[0;34m\u001b[0m\u001b[0;34m\u001b[0m\u001b[0m\n\u001b[1;32m   2528\u001b[0m         \u001b[0md\u001b[0m \u001b[0;34m=\u001b[0m \u001b[0mdiag\u001b[0m\u001b[0;34m(\u001b[0m\u001b[0mc\u001b[0m\u001b[0;34m)\u001b[0m\u001b[0;34m\u001b[0m\u001b[0;34m\u001b[0m\u001b[0m\n",
      "\u001b[0;32m<__array_function__ internals>\u001b[0m in \u001b[0;36mcov\u001b[0;34m(*args, **kwargs)\u001b[0m\n",
      "\u001b[0;32m/usr/local/lib/python3.7/site-packages/numpy/lib/function_base.py\u001b[0m in \u001b[0;36mcov\u001b[0;34m(m, y, rowvar, bias, ddof, fweights, aweights)\u001b[0m\n\u001b[1;32m   2388\u001b[0m         \u001b[0;32mif\u001b[0m \u001b[0;32mnot\u001b[0m \u001b[0mrowvar\u001b[0m \u001b[0;32mand\u001b[0m \u001b[0my\u001b[0m\u001b[0;34m.\u001b[0m\u001b[0mshape\u001b[0m\u001b[0;34m[\u001b[0m\u001b[0;36m0\u001b[0m\u001b[0;34m]\u001b[0m \u001b[0;34m!=\u001b[0m \u001b[0;36m1\u001b[0m\u001b[0;34m:\u001b[0m\u001b[0;34m\u001b[0m\u001b[0;34m\u001b[0m\u001b[0m\n\u001b[1;32m   2389\u001b[0m             \u001b[0my\u001b[0m \u001b[0;34m=\u001b[0m \u001b[0my\u001b[0m\u001b[0;34m.\u001b[0m\u001b[0mT\u001b[0m\u001b[0;34m\u001b[0m\u001b[0;34m\u001b[0m\u001b[0m\n\u001b[0;32m-> 2390\u001b[0;31m         \u001b[0mX\u001b[0m \u001b[0;34m=\u001b[0m \u001b[0mnp\u001b[0m\u001b[0;34m.\u001b[0m\u001b[0mconcatenate\u001b[0m\u001b[0;34m(\u001b[0m\u001b[0;34m(\u001b[0m\u001b[0mX\u001b[0m\u001b[0;34m,\u001b[0m \u001b[0my\u001b[0m\u001b[0;34m)\u001b[0m\u001b[0;34m,\u001b[0m \u001b[0maxis\u001b[0m\u001b[0;34m=\u001b[0m\u001b[0;36m0\u001b[0m\u001b[0;34m)\u001b[0m\u001b[0;34m\u001b[0m\u001b[0;34m\u001b[0m\u001b[0m\n\u001b[0m\u001b[1;32m   2391\u001b[0m \u001b[0;34m\u001b[0m\u001b[0m\n\u001b[1;32m   2392\u001b[0m     \u001b[0;32mif\u001b[0m \u001b[0mddof\u001b[0m \u001b[0;32mis\u001b[0m \u001b[0;32mNone\u001b[0m\u001b[0;34m:\u001b[0m\u001b[0;34m\u001b[0m\u001b[0;34m\u001b[0m\u001b[0m\n",
      "\u001b[0;32m<__array_function__ internals>\u001b[0m in \u001b[0;36mconcatenate\u001b[0;34m(*args, **kwargs)\u001b[0m\n",
      "\u001b[0;31mValueError\u001b[0m: all the input array dimensions for the concatenation axis must match exactly, but along dimension 1, the array at index 0 has size 32 and the array at index 1 has size 0"
     ]
    }
   ],
   "source": [
    "corr = np.corrcoef(noise,acc)[0,1]\n",
    "print(corr, '\\n')\n",
    "corr = np.corrcoef(noise,catch_acc)[0,1]\n",
    "print(corr, '\\n')"
   ]
  },
  {
   "cell_type": "code",
   "execution_count": null,
   "metadata": {},
   "outputs": [],
   "source": [
    "# plot the data...\n",
    "plt.scatter(acc,noise,color='r')\n",
    "plt.xlabel('Accuracy')\n",
    "plt.ylabel('Noise')\n",
    "plt.show()"
   ]
  },
  {
   "cell_type": "code",
   "execution_count": null,
   "metadata": {},
   "outputs": [],
   "source": [
    "# plot the data...\n",
    "plt.scatter(catch_acc,noise,color='r')\n",
    "plt.hist(catch_acc,noise)\n",
    "plt.xlabel('Accuracy')\n",
    "plt.ylabel('Noise')\n",
    "plt.show()"
   ]
  },
  {
   "cell_type": "markdown",
   "metadata": {},
   "source": [
    "## Analyze pretest trials"
   ]
  },
  {
   "cell_type": "code",
   "execution_count": 39,
   "metadata": {},
   "outputs": [
    {
     "ename": "NameError",
     "evalue": "name 'pretest_trials' is not defined",
     "output_type": "error",
     "traceback": [
      "\u001b[0;31m---------------------------------------------------------------------------\u001b[0m",
      "\u001b[0;31mNameError\u001b[0m                                 Traceback (most recent call last)",
      "\u001b[0;32m/var/folders/w3/hvly9pws0r11d56ls2x71l1h0000gn/T/ipykernel_2165/1921394636.py\u001b[0m in \u001b[0;36m<module>\u001b[0;34m\u001b[0m\n\u001b[0;32m----> 1\u001b[0;31m \u001b[0mdf_pretest\u001b[0m \u001b[0;34m=\u001b[0m \u001b[0mdf_clean\u001b[0m\u001b[0;34m[\u001b[0m\u001b[0;34m(\u001b[0m\u001b[0mdf_clean\u001b[0m\u001b[0;34m[\u001b[0m\u001b[0;34m'trial_template'\u001b[0m\u001b[0;34m]\u001b[0m\u001b[0;34m.\u001b[0m\u001b[0misin\u001b[0m\u001b[0;34m(\u001b[0m\u001b[0mpretest_trials\u001b[0m\u001b[0;34m)\u001b[0m\u001b[0;34m)\u001b[0m\u001b[0;34m]\u001b[0m\u001b[0;34m\u001b[0m\u001b[0;34m\u001b[0m\u001b[0m\n\u001b[0m\u001b[1;32m      2\u001b[0m \u001b[0;31m#print(df_pretest.groupby(['participant_id','stimuli_presented']).mean()['Correct'])\u001b[0m\u001b[0;34m\u001b[0m\u001b[0;34m\u001b[0m\u001b[0;34m\u001b[0m\u001b[0m\n\u001b[1;32m      3\u001b[0m \u001b[0mprint\u001b[0m\u001b[0;34m(\u001b[0m\u001b[0mdf_pretest\u001b[0m\u001b[0;34m.\u001b[0m\u001b[0mgroupby\u001b[0m\u001b[0;34m(\u001b[0m\u001b[0;34m[\u001b[0m\u001b[0;34m'stimuli_presented'\u001b[0m\u001b[0;34m]\u001b[0m\u001b[0;34m)\u001b[0m\u001b[0;34m.\u001b[0m\u001b[0mmean\u001b[0m\u001b[0;34m(\u001b[0m\u001b[0;34m)\u001b[0m\u001b[0;34m[\u001b[0m\u001b[0;34m'Correct'\u001b[0m\u001b[0;34m]\u001b[0m\u001b[0;34m)\u001b[0m\u001b[0;34m\u001b[0m\u001b[0;34m\u001b[0m\u001b[0m\n\u001b[1;32m      4\u001b[0m \u001b[0mprint\u001b[0m\u001b[0;34m(\u001b[0m\u001b[0mdf_pretest\u001b[0m\u001b[0;34m.\u001b[0m\u001b[0mgroupby\u001b[0m\u001b[0;34m(\u001b[0m\u001b[0;34m[\u001b[0m\u001b[0;34m'stimuli_presented'\u001b[0m\u001b[0;34m]\u001b[0m\u001b[0;34m)\u001b[0m\u001b[0;34m.\u001b[0m\u001b[0mmean\u001b[0m\u001b[0;34m(\u001b[0m\u001b[0;34m)\u001b[0m\u001b[0;34m[\u001b[0m\u001b[0;34m'Shorter'\u001b[0m\u001b[0;34m]\u001b[0m\u001b[0;34m)\u001b[0m\u001b[0;34m\u001b[0m\u001b[0;34m\u001b[0m\u001b[0m\n\u001b[1;32m      5\u001b[0m \u001b[0mprint\u001b[0m\u001b[0;34m(\u001b[0m\u001b[0mnp\u001b[0m\u001b[0;34m.\u001b[0m\u001b[0mmean\u001b[0m\u001b[0;34m(\u001b[0m\u001b[0mdf_pretest\u001b[0m\u001b[0;34m[\u001b[0m\u001b[0;34m'Shorter'\u001b[0m\u001b[0;34m]\u001b[0m\u001b[0;34m)\u001b[0m\u001b[0;34m)\u001b[0m\u001b[0;34m\u001b[0m\u001b[0;34m\u001b[0m\u001b[0m\n",
      "\u001b[0;31mNameError\u001b[0m: name 'pretest_trials' is not defined"
     ]
    }
   ],
   "source": [
    "df_pretest = df_clean[(df_clean['trial_template'].isin(pretest_trials))]\n",
    "#print(df_pretest.groupby(['participant_id','stimuli_presented']).mean()['Correct'])\n",
    "print(df_pretest.groupby(['stimuli_presented']).mean()['Correct'])\n",
    "print(df_pretest.groupby(['stimuli_presented']).mean()['Shorter'])\n",
    "print(np.mean(df_pretest['Shorter']))"
   ]
  },
  {
   "cell_type": "markdown",
   "metadata": {},
   "source": [
    "## Save the onset and comparison length to the csv file for R analysis"
   ]
  },
  {
   "cell_type": "code",
   "execution_count": 11,
   "metadata": {},
   "outputs": [
    {
     "name": "stdout",
     "output_type": "stream",
     "text": [
      "Participant_number:\n",
      "67\n",
      "Trial number:\n",
      "1929\n",
      "Condition number:\n",
      "36\n"
     ]
    }
   ],
   "source": [
    "## Number of subjects, trials & conditions for each subjects\n",
    "n_subj = len(df_clean['sub_id'].unique())\n",
    "n_trial = len(df_clean)//15\n",
    "n_conds = len(df_clean['stimuli_presented'].unique())\n",
    "print('Participant_number:', n_subj,'Trial number:', n_trial,'Condition number:', n_conds, sep='\\n')"
   ]
  },
  {
   "cell_type": "code",
   "execution_count": 40,
   "metadata": {},
   "outputs": [],
   "source": [
    "## Group_by\n",
    "overall_acc = df_clean.groupby(['sub_id']).mean()['Correct'].reset_index(drop = True)\n",
    "overall_pps = df_clean.groupby(['sub_id']).mean()['Shorter'].reset_index(drop = True)\n",
    "all_conds_acc = df_clean.groupby(['sub_id','onset','delay','comparison','order','key']).mean()['Correct'].reset_index(drop = True)\n",
    "all_conds_pps = df_clean.groupby(['sub_id','onset','delay','comparison','order','key']).mean()['Shorter'].reset_index(drop = True)"
   ]
  },
  {
   "cell_type": "code",
   "execution_count": 41,
   "metadata": {},
   "outputs": [
    {
     "ename": "FileNotFoundError",
     "evalue": "[Errno 2] No such file or directory: '/Users/t.z.cheng/Google_Drive/Research/Delaydoesmatter/real_exp/exp4_20CR12/results_shortlongdelay_2021/v2_20CR12_clean_n67_cleaned.csv'",
     "output_type": "error",
     "traceback": [
      "\u001b[0;31m---------------------------------------------------------------------------\u001b[0m",
      "\u001b[0;31mFileNotFoundError\u001b[0m                         Traceback (most recent call last)",
      "\u001b[0;32m/var/folders/w3/hvly9pws0r11d56ls2x71l1h0000gn/T/ipykernel_2165/2075028298.py\u001b[0m in \u001b[0;36m<module>\u001b[0;34m\u001b[0m\n\u001b[1;32m      1\u001b[0m \u001b[0;31m## save df to csv\u001b[0m\u001b[0;34m\u001b[0m\u001b[0;34m\u001b[0m\u001b[0;34m\u001b[0m\u001b[0m\n\u001b[0;32m----> 2\u001b[0;31m \u001b[0mdf_clean\u001b[0m\u001b[0;34m.\u001b[0m\u001b[0mto_csv\u001b[0m\u001b[0;34m(\u001b[0m\u001b[0;34mr'/Users/t.z.cheng/Google_Drive/Research/Delaydoesmatter/real_exp/exp4_20CR12/results_shortlongdelay_2021/v2_20CR12_clean_n67_cleaned.csv'\u001b[0m\u001b[0;34m,\u001b[0m \u001b[0mheader\u001b[0m\u001b[0;34m=\u001b[0m\u001b[0;32mTrue\u001b[0m\u001b[0;34m)\u001b[0m\u001b[0;34m\u001b[0m\u001b[0;34m\u001b[0m\u001b[0m\n\u001b[0m",
      "\u001b[0;32m/usr/local/lib/python3.7/site-packages/pandas/core/generic.py\u001b[0m in \u001b[0;36mto_csv\u001b[0;34m(self, path_or_buf, sep, na_rep, float_format, columns, header, index, index_label, mode, encoding, compression, quoting, quotechar, line_terminator, chunksize, date_format, doublequote, escapechar, decimal)\u001b[0m\n\u001b[1;32m   3202\u001b[0m             \u001b[0mdecimal\u001b[0m\u001b[0;34m=\u001b[0m\u001b[0mdecimal\u001b[0m\u001b[0;34m,\u001b[0m\u001b[0;34m\u001b[0m\u001b[0;34m\u001b[0m\u001b[0m\n\u001b[1;32m   3203\u001b[0m         )\n\u001b[0;32m-> 3204\u001b[0;31m         \u001b[0mformatter\u001b[0m\u001b[0;34m.\u001b[0m\u001b[0msave\u001b[0m\u001b[0;34m(\u001b[0m\u001b[0;34m)\u001b[0m\u001b[0;34m\u001b[0m\u001b[0;34m\u001b[0m\u001b[0m\n\u001b[0m\u001b[1;32m   3205\u001b[0m \u001b[0;34m\u001b[0m\u001b[0m\n\u001b[1;32m   3206\u001b[0m         \u001b[0;32mif\u001b[0m \u001b[0mpath_or_buf\u001b[0m \u001b[0;32mis\u001b[0m \u001b[0;32mNone\u001b[0m\u001b[0;34m:\u001b[0m\u001b[0;34m\u001b[0m\u001b[0;34m\u001b[0m\u001b[0m\n",
      "\u001b[0;32m/usr/local/lib/python3.7/site-packages/pandas/io/formats/csvs.py\u001b[0m in \u001b[0;36msave\u001b[0;34m(self)\u001b[0m\n\u001b[1;32m    186\u001b[0m                 \u001b[0mself\u001b[0m\u001b[0;34m.\u001b[0m\u001b[0mmode\u001b[0m\u001b[0;34m,\u001b[0m\u001b[0;34m\u001b[0m\u001b[0;34m\u001b[0m\u001b[0m\n\u001b[1;32m    187\u001b[0m                 \u001b[0mencoding\u001b[0m\u001b[0;34m=\u001b[0m\u001b[0mself\u001b[0m\u001b[0;34m.\u001b[0m\u001b[0mencoding\u001b[0m\u001b[0;34m,\u001b[0m\u001b[0;34m\u001b[0m\u001b[0;34m\u001b[0m\u001b[0m\n\u001b[0;32m--> 188\u001b[0;31m                 \u001b[0mcompression\u001b[0m\u001b[0;34m=\u001b[0m\u001b[0mdict\u001b[0m\u001b[0;34m(\u001b[0m\u001b[0mself\u001b[0m\u001b[0;34m.\u001b[0m\u001b[0mcompression_args\u001b[0m\u001b[0;34m,\u001b[0m \u001b[0mmethod\u001b[0m\u001b[0;34m=\u001b[0m\u001b[0mself\u001b[0m\u001b[0;34m.\u001b[0m\u001b[0mcompression\u001b[0m\u001b[0;34m)\u001b[0m\u001b[0;34m,\u001b[0m\u001b[0;34m\u001b[0m\u001b[0;34m\u001b[0m\u001b[0m\n\u001b[0m\u001b[1;32m    189\u001b[0m             )\n\u001b[1;32m    190\u001b[0m             \u001b[0mclose\u001b[0m \u001b[0;34m=\u001b[0m \u001b[0;32mTrue\u001b[0m\u001b[0;34m\u001b[0m\u001b[0;34m\u001b[0m\u001b[0m\n",
      "\u001b[0;32m/usr/local/lib/python3.7/site-packages/pandas/io/common.py\u001b[0m in \u001b[0;36mget_handle\u001b[0;34m(path_or_buf, mode, encoding, compression, memory_map, is_text)\u001b[0m\n\u001b[1;32m    426\u001b[0m         \u001b[0;32mif\u001b[0m \u001b[0mencoding\u001b[0m\u001b[0;34m:\u001b[0m\u001b[0;34m\u001b[0m\u001b[0;34m\u001b[0m\u001b[0m\n\u001b[1;32m    427\u001b[0m             \u001b[0;31m# Encoding\u001b[0m\u001b[0;34m\u001b[0m\u001b[0;34m\u001b[0m\u001b[0;34m\u001b[0m\u001b[0m\n\u001b[0;32m--> 428\u001b[0;31m             \u001b[0mf\u001b[0m \u001b[0;34m=\u001b[0m \u001b[0mopen\u001b[0m\u001b[0;34m(\u001b[0m\u001b[0mpath_or_buf\u001b[0m\u001b[0;34m,\u001b[0m \u001b[0mmode\u001b[0m\u001b[0;34m,\u001b[0m \u001b[0mencoding\u001b[0m\u001b[0;34m=\u001b[0m\u001b[0mencoding\u001b[0m\u001b[0;34m,\u001b[0m \u001b[0mnewline\u001b[0m\u001b[0;34m=\u001b[0m\u001b[0;34m\"\"\u001b[0m\u001b[0;34m)\u001b[0m\u001b[0;34m\u001b[0m\u001b[0;34m\u001b[0m\u001b[0m\n\u001b[0m\u001b[1;32m    429\u001b[0m         \u001b[0;32melif\u001b[0m \u001b[0mis_text\u001b[0m\u001b[0;34m:\u001b[0m\u001b[0;34m\u001b[0m\u001b[0;34m\u001b[0m\u001b[0m\n\u001b[1;32m    430\u001b[0m             \u001b[0;31m# No explicit encoding\u001b[0m\u001b[0;34m\u001b[0m\u001b[0;34m\u001b[0m\u001b[0;34m\u001b[0m\u001b[0m\n",
      "\u001b[0;31mFileNotFoundError\u001b[0m: [Errno 2] No such file or directory: '/Users/t.z.cheng/Google_Drive/Research/Delaydoesmatter/real_exp/exp4_20CR12/results_shortlongdelay_2021/v2_20CR12_clean_n67_cleaned.csv'"
     ]
    }
   ],
   "source": [
    "## save df to csv\n",
    "df_clean.to_csv(r'/Users/t.z.cheng/Google_Drive/Research/Delaydoesmatter/real_exp/exp4_20CR12/results_shortlongdelay_2021/v2_20CR12_clean_n67_cleaned.csv', header=True)"
   ]
  },
  {
   "cell_type": "markdown",
   "metadata": {},
   "source": [
    "## Analyze trials of the main task"
   ]
  },
  {
   "cell_type": "markdown",
   "metadata": {},
   "source": [
    "### Accuracy"
   ]
  },
  {
   "cell_type": "code",
   "execution_count": 42,
   "metadata": {},
   "outputs": [
    {
     "ename": "ValueError",
     "evalue": "'single_300ms_delay_2_81' is not in list",
     "output_type": "error",
     "traceback": [
      "\u001b[0;31m---------------------------------------------------------------------------\u001b[0m",
      "\u001b[0;31mValueError\u001b[0m                                Traceback (most recent call last)",
      "\u001b[0;32m/var/folders/w3/hvly9pws0r11d56ls2x71l1h0000gn/T/ipykernel_2165/1397391148.py\u001b[0m in \u001b[0;36m<module>\u001b[0;34m\u001b[0m\n\u001b[1;32m      2\u001b[0m \u001b[0mAcc_cond\u001b[0m \u001b[0;34m=\u001b[0m \u001b[0;34m[\u001b[0m\u001b[0;34m]\u001b[0m\u001b[0;34m\u001b[0m\u001b[0;34m\u001b[0m\u001b[0m\n\u001b[1;32m      3\u001b[0m \u001b[0mEasiest\u001b[0m \u001b[0;34m=\u001b[0m \u001b[0;34m[\u001b[0m\u001b[0;34m]\u001b[0m\u001b[0;34m\u001b[0m\u001b[0;34m\u001b[0m\u001b[0m\n\u001b[0;32m----> 4\u001b[0;31m \u001b[0mEasiest_idx\u001b[0m \u001b[0;34m=\u001b[0m \u001b[0;34m[\u001b[0m\u001b[0mconds\u001b[0m\u001b[0;34m.\u001b[0m\u001b[0mindex\u001b[0m\u001b[0;34m(\u001b[0m\u001b[0;34m'single_300ms_delay_2_81'\u001b[0m\u001b[0;34m)\u001b[0m\u001b[0;34m,\u001b[0m\u001b[0mconds\u001b[0m\u001b[0;34m.\u001b[0m\u001b[0mindex\u001b[0m\u001b[0;34m(\u001b[0m\u001b[0;34m'single_300ms_delay_2_86'\u001b[0m\u001b[0;34m)\u001b[0m\u001b[0;34m]\u001b[0m\u001b[0;34m\u001b[0m\u001b[0;34m\u001b[0m\u001b[0m\n\u001b[0m\u001b[1;32m      5\u001b[0m \u001b[0;31m# Easiest_idx = [conds.index('single_300ms_delay_4_81'),conds.index('single_300ms_delay_4_86')]\u001b[0m\u001b[0;34m\u001b[0m\u001b[0;34m\u001b[0m\u001b[0;34m\u001b[0m\u001b[0m\n\u001b[1;32m      6\u001b[0m \u001b[0;32mfor\u001b[0m \u001b[0msub\u001b[0m \u001b[0;32min\u001b[0m \u001b[0msubID\u001b[0m\u001b[0;34m:\u001b[0m\u001b[0;34m\u001b[0m\u001b[0;34m\u001b[0m\u001b[0m\n",
      "\u001b[0;31mValueError\u001b[0m: 'single_300ms_delay_2_81' is not in list"
     ]
    }
   ],
   "source": [
    "Accuracy = []\n",
    "Acc_cond = []\n",
    "Easiest = []\n",
    "Easiest_idx = [conds.index('single_300ms_delay_2_81'),conds.index('single_300ms_delay_2_86')]\n",
    "# Easiest_idx = [conds.index('single_300ms_delay_4_81'),conds.index('single_300ms_delay_4_86')]\n",
    "for sub in subID:\n",
    "    tmpdf = df_clean[df_clean['participant_id'] == sub]\n",
    "    for cond in conds:\n",
    "        tmpAcc = np.mean(tmpdf[tmpdf['stimuli_presented'] == cond]['response_correct'])\n",
    "        Acc_cond.append(tmpAcc)\n",
    "    Easiest.append((Acc_cond[Easiest_idx[0]] + Acc_cond[Easiest_idx[-1]])/len(Easiest_idx)) # average accuracy of 81 and 86 \n",
    "    Accuracy.append(Acc_cond)\n",
    "    Acc_cond = []"
   ]
  },
  {
   "cell_type": "code",
   "execution_count": null,
   "metadata": {},
   "outputs": [],
   "source": [
    "## Outliers based on the accuracy of the easiest trials \n",
    "Acc_easiest = pd.Series(Easiest, index=df_clean['participant_id'].unique())\n",
    "print(Acc_easiest.describe())\n",
    "t = Acc_easiest[Acc_easiest >= threshold]\n",
    "print(\"Subjects who have >=\",threshold, \"accuracy for the easiest trials:\",len(t))"
   ]
  },
  {
   "cell_type": "code",
   "execution_count": null,
   "metadata": {},
   "outputs": [],
   "source": [
    "df_Accuracy = pd.DataFrame(data = Accuracy, index = subID, columns = conds)\n",
    "Acc_final_sample = df_Accuracy[Acc_easiest >= threshold]\n",
    "Acc_final_sample.head()\n",
    "print('Final sample size:', len(Acc_final_sample))\n",
    "# Acc_final_sample.describe()"
   ]
  },
  {
   "cell_type": "code",
   "execution_count": null,
   "metadata": {},
   "outputs": [],
   "source": [
    "df_Accuracy.index.name = 'participant_id'"
   ]
  },
  {
   "cell_type": "code",
   "execution_count": null,
   "metadata": {},
   "outputs": [],
   "source": [
    "outliers = Acc_easiest < threshold\n",
    "outliers = outliers[outliers == True]\n",
    "df_clean_nooutlier = df_clean[~df_clean['participant_id'].isin(outliers.index)]\n",
    "len(df_clean_nooutlier)/216"
   ]
  },
  {
   "cell_type": "code",
   "execution_count": null,
   "metadata": {},
   "outputs": [],
   "source": [
    "len(Acc_final_sample)"
   ]
  },
  {
   "cell_type": "code",
   "execution_count": null,
   "metadata": {},
   "outputs": [],
   "source": [
    "## Save the dataset to csv\n",
    "# df_clean_nooutlier.to_csv(path_or_buf = '/Users/t.z.cheng/Google_Drive/Research/Delaydoesmatter/real_exp/exp4_20CR12/results/20CR12_clean_n53.csv', index=True)"
   ]
  },
  {
   "cell_type": "code",
   "execution_count": null,
   "metadata": {},
   "outputs": [],
   "source": [
    "## Early, ontime, late short delay\n",
    "early = [conds.index('single_300ms_delay_2_51'),conds.index('single_300ms_delay_2_52'),conds.index('single_300ms_delay_2_53'),conds.index('single_300ms_delay_2_54'),conds.index('single_300ms_delay_2_55'),conds.index('single_300ms_delay_2_56')]\n",
    "ontime = [conds.index('single_300ms_delay_2_81'),conds.index('single_300ms_delay_2_82'),conds.index('single_300ms_delay_2_83'),conds.index('single_300ms_delay_2_84'),conds.index('single_300ms_delay_2_85'),conds.index('single_300ms_delay_2_86')]\n",
    "late = [conds.index('single_300ms_delay_2_91'),conds.index('single_300ms_delay_2_92'),conds.index('single_300ms_delay_2_93'),conds.index('single_300ms_delay_2_94'),conds.index('single_300ms_delay_2_95'),conds.index('single_300ms_delay_2_96')]\n",
    "Acc_early = Acc_final_sample.iloc[:, early].mean(axis = 1)\n",
    "Acc_ontime = Acc_final_sample.iloc[:, ontime].mean(axis = 1)\n",
    "Acc_late = Acc_final_sample.iloc[:, late].mean(axis = 1)\n",
    "print(\"Accuracy\")\n",
    "print(\"Early:\", np.mean(Acc_early))\n",
    "print(\"Ontime:\", np.mean(Acc_ontime))\n",
    "print(\"Late:\",np.mean(Acc_late))"
   ]
  },
  {
   "cell_type": "code",
   "execution_count": null,
   "metadata": {},
   "outputs": [],
   "source": [
    "## Early, ontime, late long delay\n",
    "early = [conds.index('single_300ms_delay_4_51'),conds.index('single_300ms_delay_4_52'),conds.index('single_300ms_delay_4_53'),conds.index('single_300ms_delay_4_54'),conds.index('single_300ms_delay_4_55'),conds.index('single_300ms_delay_4_56')]\n",
    "ontime = [conds.index('single_300ms_delay_4_81'),conds.index('single_300ms_delay_4_82'),conds.index('single_300ms_delay_4_83'),conds.index('single_300ms_delay_4_84'),conds.index('single_300ms_delay_4_85'),conds.index('single_300ms_delay_4_86')]\n",
    "late = [conds.index('single_300ms_delay_4_91'),conds.index('single_300ms_delay_4_92'),conds.index('single_300ms_delay_4_93'),conds.index('single_300ms_delay_4_94'),conds.index('single_300ms_delay_4_95'),conds.index('single_300ms_delay_4_96')]\n",
    "Acc_early = Acc_final_sample.iloc[:, early].mean(axis = 1)\n",
    "Acc_ontime = Acc_final_sample.iloc[:, ontime].mean(axis = 1)\n",
    "Acc_late = Acc_final_sample.iloc[:, late].mean(axis = 1)\n",
    "print(\"Accuracy\")\n",
    "print(\"Early:\", np.mean(Acc_early))\n",
    "print(\"Ontime:\", np.mean(Acc_ontime))\n",
    "print(\"Late:\",np.mean(Acc_late))"
   ]
  },
  {
   "cell_type": "code",
   "execution_count": null,
   "metadata": {},
   "outputs": [],
   "source": [
    "## Visualization: bar plot\n",
    "ACC_plot = pd.DataFrame({'Conditions': conds, 'acc': np.mean(Acc_final_sample, axis = 0)})\n",
    "ax = ACC_plot.plot.bar(rot = 0)"
   ]
  },
  {
   "cell_type": "markdown",
   "metadata": {},
   "source": [
    "### Proportion short"
   ]
  },
  {
   "cell_type": "code",
   "execution_count": 43,
   "metadata": {},
   "outputs": [],
   "source": [
    "resp_short = []\n",
    "resp_short = [True if d == 'Shorter' else False for d in df_clean['response_value']]"
   ]
  },
  {
   "cell_type": "code",
   "execution_count": 44,
   "metadata": {},
   "outputs": [],
   "source": [
    "df_clean['resp_short'] = resp_short"
   ]
  },
  {
   "cell_type": "code",
   "execution_count": 45,
   "metadata": {},
   "outputs": [],
   "source": [
    "PPS = []\n",
    "PPS_cond = []\n",
    "for sub in subID:\n",
    "    tmpdf = df_clean[df_clean['participant_id'] == sub]\n",
    "    for cond in conds:\n",
    "        tmpPPS = np.mean(tmpdf[tmpdf['stimuli_presented'] == cond]['resp_short'])\n",
    "        PPS_cond.append(tmpPPS)\n",
    "    PPS.append(PPS_cond)\n",
    "    PPS_cond = []"
   ]
  },
  {
   "cell_type": "code",
   "execution_count": 46,
   "metadata": {},
   "outputs": [],
   "source": [
    "df_PPS = pd.DataFrame(data = PPS, index = subID, columns = conds)"
   ]
  },
  {
   "cell_type": "code",
   "execution_count": 47,
   "metadata": {},
   "outputs": [
    {
     "ename": "NameError",
     "evalue": "name 'Acc_easiest' is not defined",
     "output_type": "error",
     "traceback": [
      "\u001b[0;31m---------------------------------------------------------------------------\u001b[0m",
      "\u001b[0;31mNameError\u001b[0m                                 Traceback (most recent call last)",
      "\u001b[0;32m/var/folders/w3/hvly9pws0r11d56ls2x71l1h0000gn/T/ipykernel_2165/680519929.py\u001b[0m in \u001b[0;36m<module>\u001b[0;34m\u001b[0m\n\u001b[0;32m----> 1\u001b[0;31m \u001b[0mPPS_final_sample\u001b[0m \u001b[0;34m=\u001b[0m \u001b[0mdf_PPS\u001b[0m\u001b[0;34m[\u001b[0m\u001b[0mAcc_easiest\u001b[0m \u001b[0;34m>=\u001b[0m \u001b[0mthreshold\u001b[0m\u001b[0;34m]\u001b[0m\u001b[0;34m\u001b[0m\u001b[0;34m\u001b[0m\u001b[0m\n\u001b[0m\u001b[1;32m      2\u001b[0m \u001b[0mPPS_final_sample\u001b[0m\u001b[0;34m.\u001b[0m\u001b[0mhead\u001b[0m\u001b[0;34m(\u001b[0m\u001b[0;34m)\u001b[0m\u001b[0;34m\u001b[0m\u001b[0;34m\u001b[0m\u001b[0m\n\u001b[1;32m      3\u001b[0m \u001b[0mPPS_final_sample\u001b[0m\u001b[0;34m.\u001b[0m\u001b[0mdescribe\u001b[0m\u001b[0;34m(\u001b[0m\u001b[0;34m)\u001b[0m\u001b[0;34m\u001b[0m\u001b[0;34m\u001b[0m\u001b[0m\n",
      "\u001b[0;31mNameError\u001b[0m: name 'Acc_easiest' is not defined"
     ]
    }
   ],
   "source": [
    "PPS_final_sample = df_PPS[Acc_easiest >= threshold]\n",
    "PPS_final_sample.head()\n",
    "PPS_final_sample.describe()"
   ]
  },
  {
   "cell_type": "code",
   "execution_count": 48,
   "metadata": {},
   "outputs": [
    {
     "ename": "ValueError",
     "evalue": "'single_300ms_delay_2_51' is not in list",
     "output_type": "error",
     "traceback": [
      "\u001b[0;31m---------------------------------------------------------------------------\u001b[0m",
      "\u001b[0;31mValueError\u001b[0m                                Traceback (most recent call last)",
      "\u001b[0;32m/var/folders/w3/hvly9pws0r11d56ls2x71l1h0000gn/T/ipykernel_2165/434695469.py\u001b[0m in \u001b[0;36m<module>\u001b[0;34m\u001b[0m\n\u001b[1;32m      1\u001b[0m \u001b[0;31m## Early, ontime, late short\u001b[0m\u001b[0;34m\u001b[0m\u001b[0;34m\u001b[0m\u001b[0;34m\u001b[0m\u001b[0m\n\u001b[0;32m----> 2\u001b[0;31m \u001b[0mearly\u001b[0m \u001b[0;34m=\u001b[0m \u001b[0;34m[\u001b[0m\u001b[0mconds\u001b[0m\u001b[0;34m.\u001b[0m\u001b[0mindex\u001b[0m\u001b[0;34m(\u001b[0m\u001b[0;34m'single_300ms_delay_2_51'\u001b[0m\u001b[0;34m)\u001b[0m\u001b[0;34m,\u001b[0m\u001b[0mconds\u001b[0m\u001b[0;34m.\u001b[0m\u001b[0mindex\u001b[0m\u001b[0;34m(\u001b[0m\u001b[0;34m'single_300ms_delay_2_52'\u001b[0m\u001b[0;34m)\u001b[0m\u001b[0;34m,\u001b[0m\u001b[0mconds\u001b[0m\u001b[0;34m.\u001b[0m\u001b[0mindex\u001b[0m\u001b[0;34m(\u001b[0m\u001b[0;34m'single_300ms_delay_2_53'\u001b[0m\u001b[0;34m)\u001b[0m\u001b[0;34m,\u001b[0m\u001b[0mconds\u001b[0m\u001b[0;34m.\u001b[0m\u001b[0mindex\u001b[0m\u001b[0;34m(\u001b[0m\u001b[0;34m'single_300ms_delay_2_54'\u001b[0m\u001b[0;34m)\u001b[0m\u001b[0;34m,\u001b[0m\u001b[0mconds\u001b[0m\u001b[0;34m.\u001b[0m\u001b[0mindex\u001b[0m\u001b[0;34m(\u001b[0m\u001b[0;34m'single_300ms_delay_2_55'\u001b[0m\u001b[0;34m)\u001b[0m\u001b[0;34m,\u001b[0m\u001b[0mconds\u001b[0m\u001b[0;34m.\u001b[0m\u001b[0mindex\u001b[0m\u001b[0;34m(\u001b[0m\u001b[0;34m'single_300ms_delay_2_56'\u001b[0m\u001b[0;34m)\u001b[0m\u001b[0;34m]\u001b[0m\u001b[0;34m\u001b[0m\u001b[0;34m\u001b[0m\u001b[0m\n\u001b[0m\u001b[1;32m      3\u001b[0m \u001b[0montime\u001b[0m \u001b[0;34m=\u001b[0m \u001b[0;34m[\u001b[0m\u001b[0mconds\u001b[0m\u001b[0;34m.\u001b[0m\u001b[0mindex\u001b[0m\u001b[0;34m(\u001b[0m\u001b[0;34m'single_300ms_delay_2_81'\u001b[0m\u001b[0;34m)\u001b[0m\u001b[0;34m,\u001b[0m\u001b[0mconds\u001b[0m\u001b[0;34m.\u001b[0m\u001b[0mindex\u001b[0m\u001b[0;34m(\u001b[0m\u001b[0;34m'single_300ms_delay_2_82'\u001b[0m\u001b[0;34m)\u001b[0m\u001b[0;34m,\u001b[0m\u001b[0mconds\u001b[0m\u001b[0;34m.\u001b[0m\u001b[0mindex\u001b[0m\u001b[0;34m(\u001b[0m\u001b[0;34m'single_300ms_delay_2_83'\u001b[0m\u001b[0;34m)\u001b[0m\u001b[0;34m,\u001b[0m\u001b[0mconds\u001b[0m\u001b[0;34m.\u001b[0m\u001b[0mindex\u001b[0m\u001b[0;34m(\u001b[0m\u001b[0;34m'single_300ms_delay_2_84'\u001b[0m\u001b[0;34m)\u001b[0m\u001b[0;34m,\u001b[0m\u001b[0mconds\u001b[0m\u001b[0;34m.\u001b[0m\u001b[0mindex\u001b[0m\u001b[0;34m(\u001b[0m\u001b[0;34m'single_300ms_delay_2_85'\u001b[0m\u001b[0;34m)\u001b[0m\u001b[0;34m,\u001b[0m\u001b[0mconds\u001b[0m\u001b[0;34m.\u001b[0m\u001b[0mindex\u001b[0m\u001b[0;34m(\u001b[0m\u001b[0;34m'single_300ms_delay_2_86'\u001b[0m\u001b[0;34m)\u001b[0m\u001b[0;34m]\u001b[0m\u001b[0;34m\u001b[0m\u001b[0;34m\u001b[0m\u001b[0m\n\u001b[1;32m      4\u001b[0m \u001b[0mlate\u001b[0m \u001b[0;34m=\u001b[0m \u001b[0;34m[\u001b[0m\u001b[0mconds\u001b[0m\u001b[0;34m.\u001b[0m\u001b[0mindex\u001b[0m\u001b[0;34m(\u001b[0m\u001b[0;34m'single_300ms_delay_2_91'\u001b[0m\u001b[0;34m)\u001b[0m\u001b[0;34m,\u001b[0m\u001b[0mconds\u001b[0m\u001b[0;34m.\u001b[0m\u001b[0mindex\u001b[0m\u001b[0;34m(\u001b[0m\u001b[0;34m'single_300ms_delay_2_92'\u001b[0m\u001b[0;34m)\u001b[0m\u001b[0;34m,\u001b[0m\u001b[0mconds\u001b[0m\u001b[0;34m.\u001b[0m\u001b[0mindex\u001b[0m\u001b[0;34m(\u001b[0m\u001b[0;34m'single_300ms_delay_2_93'\u001b[0m\u001b[0;34m)\u001b[0m\u001b[0;34m,\u001b[0m\u001b[0mconds\u001b[0m\u001b[0;34m.\u001b[0m\u001b[0mindex\u001b[0m\u001b[0;34m(\u001b[0m\u001b[0;34m'single_300ms_delay_2_94'\u001b[0m\u001b[0;34m)\u001b[0m\u001b[0;34m,\u001b[0m\u001b[0mconds\u001b[0m\u001b[0;34m.\u001b[0m\u001b[0mindex\u001b[0m\u001b[0;34m(\u001b[0m\u001b[0;34m'single_300ms_delay_2_95'\u001b[0m\u001b[0;34m)\u001b[0m\u001b[0;34m,\u001b[0m\u001b[0mconds\u001b[0m\u001b[0;34m.\u001b[0m\u001b[0mindex\u001b[0m\u001b[0;34m(\u001b[0m\u001b[0;34m'single_300ms_delay_2_96'\u001b[0m\u001b[0;34m)\u001b[0m\u001b[0;34m]\u001b[0m\u001b[0;34m\u001b[0m\u001b[0;34m\u001b[0m\u001b[0m\n\u001b[1;32m      5\u001b[0m \u001b[0mPPS_early\u001b[0m \u001b[0;34m=\u001b[0m \u001b[0mPPS_final_sample\u001b[0m\u001b[0;34m.\u001b[0m\u001b[0miloc\u001b[0m\u001b[0;34m[\u001b[0m\u001b[0;34m:\u001b[0m\u001b[0;34m,\u001b[0m \u001b[0mearly\u001b[0m\u001b[0;34m]\u001b[0m\u001b[0;34m.\u001b[0m\u001b[0mmean\u001b[0m\u001b[0;34m(\u001b[0m\u001b[0maxis\u001b[0m \u001b[0;34m=\u001b[0m \u001b[0;36m1\u001b[0m\u001b[0;34m)\u001b[0m\u001b[0;34m\u001b[0m\u001b[0;34m\u001b[0m\u001b[0m\n",
      "\u001b[0;31mValueError\u001b[0m: 'single_300ms_delay_2_51' is not in list"
     ]
    }
   ],
   "source": [
    "## Early, ontime, late short\n",
    "early = [conds.index('single_300ms_delay_2_51'),conds.index('single_300ms_delay_2_52'),conds.index('single_300ms_delay_2_53'),conds.index('single_300ms_delay_2_54'),conds.index('single_300ms_delay_2_55'),conds.index('single_300ms_delay_2_56')]\n",
    "ontime = [conds.index('single_300ms_delay_2_81'),conds.index('single_300ms_delay_2_82'),conds.index('single_300ms_delay_2_83'),conds.index('single_300ms_delay_2_84'),conds.index('single_300ms_delay_2_85'),conds.index('single_300ms_delay_2_86')]\n",
    "late = [conds.index('single_300ms_delay_2_91'),conds.index('single_300ms_delay_2_92'),conds.index('single_300ms_delay_2_93'),conds.index('single_300ms_delay_2_94'),conds.index('single_300ms_delay_2_95'),conds.index('single_300ms_delay_2_96')]\n",
    "PPS_early = PPS_final_sample.iloc[:, early].mean(axis = 1)\n",
    "PPS_ontime = PPS_final_sample.iloc[:, ontime].mean(axis = 1)\n",
    "PPS_late = PPS_final_sample.iloc[:, late].mean(axis = 1)\n",
    "print(\"Proportion short\")\n",
    "print(\"Early:\", np.mean(PPS_early))\n",
    "print(\"Ontime:\", np.mean(PPS_ontime))\n",
    "print(\"Late:\",np.mean(PPS_late))"
   ]
  },
  {
   "cell_type": "code",
   "execution_count": 49,
   "metadata": {},
   "outputs": [
    {
     "ename": "NameError",
     "evalue": "name 'PPS_final_sample' is not defined",
     "output_type": "error",
     "traceback": [
      "\u001b[0;31m---------------------------------------------------------------------------\u001b[0m",
      "\u001b[0;31mNameError\u001b[0m                                 Traceback (most recent call last)",
      "\u001b[0;32m/var/folders/w3/hvly9pws0r11d56ls2x71l1h0000gn/T/ipykernel_2165/3880991313.py\u001b[0m in \u001b[0;36m<module>\u001b[0;34m\u001b[0m\n\u001b[1;32m      3\u001b[0m \u001b[0montime\u001b[0m \u001b[0;34m=\u001b[0m \u001b[0;34m[\u001b[0m\u001b[0mconds\u001b[0m\u001b[0;34m.\u001b[0m\u001b[0mindex\u001b[0m\u001b[0;34m(\u001b[0m\u001b[0;34m'single_300ms_delay_4_81'\u001b[0m\u001b[0;34m)\u001b[0m\u001b[0;34m,\u001b[0m\u001b[0mconds\u001b[0m\u001b[0;34m.\u001b[0m\u001b[0mindex\u001b[0m\u001b[0;34m(\u001b[0m\u001b[0;34m'single_300ms_delay_4_82'\u001b[0m\u001b[0;34m)\u001b[0m\u001b[0;34m,\u001b[0m\u001b[0mconds\u001b[0m\u001b[0;34m.\u001b[0m\u001b[0mindex\u001b[0m\u001b[0;34m(\u001b[0m\u001b[0;34m'single_300ms_delay_4_83'\u001b[0m\u001b[0;34m)\u001b[0m\u001b[0;34m,\u001b[0m\u001b[0mconds\u001b[0m\u001b[0;34m.\u001b[0m\u001b[0mindex\u001b[0m\u001b[0;34m(\u001b[0m\u001b[0;34m'single_300ms_delay_4_84'\u001b[0m\u001b[0;34m)\u001b[0m\u001b[0;34m,\u001b[0m\u001b[0mconds\u001b[0m\u001b[0;34m.\u001b[0m\u001b[0mindex\u001b[0m\u001b[0;34m(\u001b[0m\u001b[0;34m'single_300ms_delay_4_85'\u001b[0m\u001b[0;34m)\u001b[0m\u001b[0;34m,\u001b[0m\u001b[0mconds\u001b[0m\u001b[0;34m.\u001b[0m\u001b[0mindex\u001b[0m\u001b[0;34m(\u001b[0m\u001b[0;34m'single_300ms_delay_4_86'\u001b[0m\u001b[0;34m)\u001b[0m\u001b[0;34m]\u001b[0m\u001b[0;34m\u001b[0m\u001b[0;34m\u001b[0m\u001b[0m\n\u001b[1;32m      4\u001b[0m \u001b[0mlate\u001b[0m \u001b[0;34m=\u001b[0m \u001b[0;34m[\u001b[0m\u001b[0mconds\u001b[0m\u001b[0;34m.\u001b[0m\u001b[0mindex\u001b[0m\u001b[0;34m(\u001b[0m\u001b[0;34m'single_300ms_delay_4_91'\u001b[0m\u001b[0;34m)\u001b[0m\u001b[0;34m,\u001b[0m\u001b[0mconds\u001b[0m\u001b[0;34m.\u001b[0m\u001b[0mindex\u001b[0m\u001b[0;34m(\u001b[0m\u001b[0;34m'single_300ms_delay_4_92'\u001b[0m\u001b[0;34m)\u001b[0m\u001b[0;34m,\u001b[0m\u001b[0mconds\u001b[0m\u001b[0;34m.\u001b[0m\u001b[0mindex\u001b[0m\u001b[0;34m(\u001b[0m\u001b[0;34m'single_300ms_delay_4_93'\u001b[0m\u001b[0;34m)\u001b[0m\u001b[0;34m,\u001b[0m\u001b[0mconds\u001b[0m\u001b[0;34m.\u001b[0m\u001b[0mindex\u001b[0m\u001b[0;34m(\u001b[0m\u001b[0;34m'single_300ms_delay_4_94'\u001b[0m\u001b[0;34m)\u001b[0m\u001b[0;34m,\u001b[0m\u001b[0mconds\u001b[0m\u001b[0;34m.\u001b[0m\u001b[0mindex\u001b[0m\u001b[0;34m(\u001b[0m\u001b[0;34m'single_300ms_delay_4_95'\u001b[0m\u001b[0;34m)\u001b[0m\u001b[0;34m,\u001b[0m\u001b[0mconds\u001b[0m\u001b[0;34m.\u001b[0m\u001b[0mindex\u001b[0m\u001b[0;34m(\u001b[0m\u001b[0;34m'single_300ms_delay_4_96'\u001b[0m\u001b[0;34m)\u001b[0m\u001b[0;34m]\u001b[0m\u001b[0;34m\u001b[0m\u001b[0;34m\u001b[0m\u001b[0m\n\u001b[0;32m----> 5\u001b[0;31m \u001b[0mPPS_early\u001b[0m \u001b[0;34m=\u001b[0m \u001b[0mPPS_final_sample\u001b[0m\u001b[0;34m.\u001b[0m\u001b[0miloc\u001b[0m\u001b[0;34m[\u001b[0m\u001b[0;34m:\u001b[0m\u001b[0;34m,\u001b[0m \u001b[0mearly\u001b[0m\u001b[0;34m]\u001b[0m\u001b[0;34m.\u001b[0m\u001b[0mmean\u001b[0m\u001b[0;34m(\u001b[0m\u001b[0maxis\u001b[0m \u001b[0;34m=\u001b[0m \u001b[0;36m1\u001b[0m\u001b[0;34m)\u001b[0m\u001b[0;34m\u001b[0m\u001b[0;34m\u001b[0m\u001b[0m\n\u001b[0m\u001b[1;32m      6\u001b[0m \u001b[0mPPS_ontime\u001b[0m \u001b[0;34m=\u001b[0m \u001b[0mPPS_final_sample\u001b[0m\u001b[0;34m.\u001b[0m\u001b[0miloc\u001b[0m\u001b[0;34m[\u001b[0m\u001b[0;34m:\u001b[0m\u001b[0;34m,\u001b[0m \u001b[0montime\u001b[0m\u001b[0;34m]\u001b[0m\u001b[0;34m.\u001b[0m\u001b[0mmean\u001b[0m\u001b[0;34m(\u001b[0m\u001b[0maxis\u001b[0m \u001b[0;34m=\u001b[0m \u001b[0;36m1\u001b[0m\u001b[0;34m)\u001b[0m\u001b[0;34m\u001b[0m\u001b[0;34m\u001b[0m\u001b[0m\n\u001b[1;32m      7\u001b[0m \u001b[0mPPS_late\u001b[0m \u001b[0;34m=\u001b[0m \u001b[0mPPS_final_sample\u001b[0m\u001b[0;34m.\u001b[0m\u001b[0miloc\u001b[0m\u001b[0;34m[\u001b[0m\u001b[0;34m:\u001b[0m\u001b[0;34m,\u001b[0m \u001b[0mlate\u001b[0m\u001b[0;34m]\u001b[0m\u001b[0;34m.\u001b[0m\u001b[0mmean\u001b[0m\u001b[0;34m(\u001b[0m\u001b[0maxis\u001b[0m \u001b[0;34m=\u001b[0m \u001b[0;36m1\u001b[0m\u001b[0;34m)\u001b[0m\u001b[0;34m\u001b[0m\u001b[0;34m\u001b[0m\u001b[0m\n",
      "\u001b[0;31mNameError\u001b[0m: name 'PPS_final_sample' is not defined"
     ]
    }
   ],
   "source": [
    "## Early, ontime, late long\n",
    "early = [conds.index('single_300ms_delay_4_51'),conds.index('single_300ms_delay_4_52'),conds.index('single_300ms_delay_4_53'),conds.index('single_300ms_delay_4_54'),conds.index('single_300ms_delay_4_55'),conds.index('single_300ms_delay_4_56')]\n",
    "ontime = [conds.index('single_300ms_delay_4_81'),conds.index('single_300ms_delay_4_82'),conds.index('single_300ms_delay_4_83'),conds.index('single_300ms_delay_4_84'),conds.index('single_300ms_delay_4_85'),conds.index('single_300ms_delay_4_86')]\n",
    "late = [conds.index('single_300ms_delay_4_91'),conds.index('single_300ms_delay_4_92'),conds.index('single_300ms_delay_4_93'),conds.index('single_300ms_delay_4_94'),conds.index('single_300ms_delay_4_95'),conds.index('single_300ms_delay_4_96')]\n",
    "PPS_early = PPS_final_sample.iloc[:, early].mean(axis = 1)\n",
    "PPS_ontime = PPS_final_sample.iloc[:, ontime].mean(axis = 1)\n",
    "PPS_late = PPS_final_sample.iloc[:, late].mean(axis = 1)\n",
    "print(\"Proportion short\")\n",
    "print(\"Early:\", np.mean(PPS_early))\n",
    "print(\"Ontime:\", np.mean(PPS_ontime))\n",
    "print(\"Late:\",np.mean(PPS_late))"
   ]
  },
  {
   "cell_type": "code",
   "execution_count": null,
   "metadata": {},
   "outputs": [],
   "source": [
    "## Visualization: bar plot\n",
    "PSS_plot = pd.DataFrame({'Conditions': conds, 'PSS': np.mean(PPS_final_sample, axis = 0)})\n",
    "ax = PSS_plot.plot.bar(rot = 0)"
   ]
  },
  {
   "cell_type": "markdown",
   "metadata": {},
   "source": [
    "### Statistic tests"
   ]
  },
  {
   "cell_type": "code",
   "execution_count": null,
   "metadata": {},
   "outputs": [],
   "source": [
    "print(stats.ttest_rel(PPS_early, PPS_late))\n",
    "print(stats.ttest_rel(PPS_early, PPS_ontime))\n",
    "print(stats.ttest_rel(PPS_late, PPS_ontime))"
   ]
  },
  {
   "cell_type": "code",
   "execution_count": null,
   "metadata": {},
   "outputs": [],
   "source": []
  }
 ],
 "metadata": {
  "kernelspec": {
   "display_name": "Python 3 (ipykernel)",
   "language": "python",
   "name": "python3"
  },
  "language_info": {
   "codemirror_mode": {
    "name": "ipython",
    "version": 3
   },
   "file_extension": ".py",
   "mimetype": "text/x-python",
   "name": "python",
   "nbconvert_exporter": "python",
   "pygments_lexer": "ipython3",
   "version": "3.7.6"
  }
 },
 "nbformat": 4,
 "nbformat_minor": 4
}
