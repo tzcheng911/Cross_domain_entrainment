{
 "cells": [
  {
   "cell_type": "code",
   "execution_count": 1,
   "metadata": {},
   "outputs": [],
   "source": [
    "import csv\n",
    "import numpy as np\n",
    "import pandas as pd\n",
    "from collections import defaultdict\n",
    "import string\n",
    "import seaborn as sns\n",
    "from sklearn import linear_model\n",
    "from sklearn import metrics # confusion matrix, MSE etc."
   ]
  },
  {
   "cell_type": "code",
   "execution_count": 2,
   "metadata": {},
   "outputs": [],
   "source": [
    "path_to_data = '/Users/t.z.cheng/Google_Drive/Research/Delaydoesmatter/real_exp/exp3_20CR11/results/20CR11_5f7d2e104bfca86e4f58ef9a-data.csv'"
   ]
  },
  {
   "cell_type": "code",
   "execution_count": 3,
   "metadata": {},
   "outputs": [],
   "source": [
    "## Read the data\n",
    "df = pd.read_csv(path_to_data)"
   ]
  },
  {
   "cell_type": "code",
   "execution_count": 4,
   "metadata": {},
   "outputs": [],
   "source": [
    "## Tasks & Conditions\n",
    "tasks = ['maintaskTrials_2_l','maintaskTrials_2_s','maintaskTrials_2_l_reversekey','maintaskTrials_2_s_reversekey']\n",
    "conds = ['300ms_delay_2_51','300ms_delay_2_52','300ms_delay_2_53','300ms_delay_2_54','300ms_delay_2_55','300ms_delay_2_56',\n",
    "        '300ms_delay_2_81','300ms_delay_2_82','300ms_delay_2_83','300ms_delay_2_84','300ms_delay_2_85','300ms_delay_2_86',\n",
    "        '300ms_delay_2_91','300ms_delay_2_92','300ms_delay_2_93','300ms_delay_2_94','300ms_delay_2_95','300ms_delay_2_96']\n",
    "subID = df['participant_id'].unique()"
   ]
  },
  {
   "cell_type": "code",
   "execution_count": 5,
   "metadata": {},
   "outputs": [],
   "source": [
    "## Parameters\n",
    "threshold = .55"
   ]
  },
  {
   "cell_type": "code",
   "execution_count": 6,
   "metadata": {},
   "outputs": [],
   "source": [
    "df_clean = df[(df['stimuli_presented'].isin(conds)) & (df['trial_template'].isin(tasks))]"
   ]
  },
  {
   "cell_type": "code",
   "execution_count": 7,
   "metadata": {},
   "outputs": [],
   "source": [
    "onset = []\n",
    "length = []\n",
    "df_clean = df_clean.set_index(pd.Index(np.arange(0,len(df_clean)))) # change the index for the for loop\n",
    "\n",
    "for i in np.arange(0,len(df_clean)):\n",
    "    stimuli_presented = df_clean['stimuli_presented'][i].split('_')\n",
    "    condition = stimuli_presented[-1]\n",
    "    condition = list(condition)\n",
    "    onset.append(condition[0])\n",
    "    length.append(condition[1])"
   ]
  },
  {
   "cell_type": "code",
   "execution_count": 8,
   "metadata": {},
   "outputs": [],
   "source": [
    "df_clean['Onset'] = onset\n",
    "df_clean['Length'] = length"
   ]
  },
  {
   "cell_type": "code",
   "execution_count": 9,
   "metadata": {},
   "outputs": [
    {
     "data": {
      "text/html": [
       "<div>\n",
       "<style scoped>\n",
       "    .dataframe tbody tr th:only-of-type {\n",
       "        vertical-align: middle;\n",
       "    }\n",
       "\n",
       "    .dataframe tbody tr th {\n",
       "        vertical-align: top;\n",
       "    }\n",
       "\n",
       "    .dataframe thead th {\n",
       "        text-align: right;\n",
       "    }\n",
       "</style>\n",
       "<table border=\"1\" class=\"dataframe\">\n",
       "  <thead>\n",
       "    <tr style=\"text-align: right;\">\n",
       "      <th></th>\n",
       "      <th>expt_id</th>\n",
       "      <th>group_id</th>\n",
       "      <th>network_error_repeat</th>\n",
       "      <th>participant_id</th>\n",
       "      <th>participation_duration</th>\n",
       "      <th>response_correct</th>\n",
       "      <th>response_mode</th>\n",
       "      <th>response_name</th>\n",
       "      <th>response_rt</th>\n",
       "      <th>response_target</th>\n",
       "      <th>response_type</th>\n",
       "      <th>response_value</th>\n",
       "      <th>session_id</th>\n",
       "      <th>stimuli_presented</th>\n",
       "      <th>trial_duration</th>\n",
       "      <th>trial_num</th>\n",
       "      <th>trial_template</th>\n",
       "      <th>Onset</th>\n",
       "      <th>Length</th>\n",
       "    </tr>\n",
       "  </thead>\n",
       "  <tbody>\n",
       "    <tr>\n",
       "      <th>0</th>\n",
       "      <td>5f7d2e104bfca86e4f58ef9a</td>\n",
       "      <td>Group_FJ</td>\n",
       "      <td>0</td>\n",
       "      <td>885d1eea80d979e945a735ff9ec5071e70109282de3476...</td>\n",
       "      <td>1704</td>\n",
       "      <td>True</td>\n",
       "      <td>keypress</td>\n",
       "      <td>testresponse_s_F</td>\n",
       "      <td>820</td>\n",
       "      <td>['Shorter']</td>\n",
       "      <td>choice-response</td>\n",
       "      <td>Shorter</td>\n",
       "      <td>5fbc5590be36f3ba328bd883</td>\n",
       "      <td>300ms_delay_2_51</td>\n",
       "      <td>4599</td>\n",
       "      <td>19</td>\n",
       "      <td>maintaskTrials_2_s</td>\n",
       "      <td>5</td>\n",
       "      <td>1</td>\n",
       "    </tr>\n",
       "    <tr>\n",
       "      <th>1</th>\n",
       "      <td>5f7d2e104bfca86e4f58ef9a</td>\n",
       "      <td>Group_FJ</td>\n",
       "      <td>0</td>\n",
       "      <td>885d1eea80d979e945a735ff9ec5071e70109282de3476...</td>\n",
       "      <td>1704</td>\n",
       "      <td>False</td>\n",
       "      <td>keypress</td>\n",
       "      <td>testresponse_s_F</td>\n",
       "      <td>526</td>\n",
       "      <td>['Shorter']</td>\n",
       "      <td>choice-response</td>\n",
       "      <td>Longer</td>\n",
       "      <td>5fbc5590be36f3ba328bd883</td>\n",
       "      <td>300ms_delay_2_91</td>\n",
       "      <td>5341</td>\n",
       "      <td>20</td>\n",
       "      <td>maintaskTrials_2_s</td>\n",
       "      <td>9</td>\n",
       "      <td>1</td>\n",
       "    </tr>\n",
       "    <tr>\n",
       "      <th>2</th>\n",
       "      <td>5f7d2e104bfca86e4f58ef9a</td>\n",
       "      <td>Group_FJ</td>\n",
       "      <td>0</td>\n",
       "      <td>885d1eea80d979e945a735ff9ec5071e70109282de3476...</td>\n",
       "      <td>1704</td>\n",
       "      <td>True</td>\n",
       "      <td>keypress</td>\n",
       "      <td>testresponse_s_F</td>\n",
       "      <td>1024</td>\n",
       "      <td>['Shorter']</td>\n",
       "      <td>choice-response</td>\n",
       "      <td>Shorter</td>\n",
       "      <td>5fbc5590be36f3ba328bd883</td>\n",
       "      <td>300ms_delay_2_93</td>\n",
       "      <td>5019</td>\n",
       "      <td>21</td>\n",
       "      <td>maintaskTrials_2_s</td>\n",
       "      <td>9</td>\n",
       "      <td>3</td>\n",
       "    </tr>\n",
       "    <tr>\n",
       "      <th>3</th>\n",
       "      <td>5f7d2e104bfca86e4f58ef9a</td>\n",
       "      <td>Group_FJ</td>\n",
       "      <td>0</td>\n",
       "      <td>885d1eea80d979e945a735ff9ec5071e70109282de3476...</td>\n",
       "      <td>1704</td>\n",
       "      <td>False</td>\n",
       "      <td>keypress</td>\n",
       "      <td>testresponse_s_F</td>\n",
       "      <td>2105</td>\n",
       "      <td>['Shorter']</td>\n",
       "      <td>choice-response</td>\n",
       "      <td>Longer</td>\n",
       "      <td>5fbc5590be36f3ba328bd883</td>\n",
       "      <td>300ms_delay_2_82</td>\n",
       "      <td>5980</td>\n",
       "      <td>22</td>\n",
       "      <td>maintaskTrials_2_s</td>\n",
       "      <td>8</td>\n",
       "      <td>2</td>\n",
       "    </tr>\n",
       "    <tr>\n",
       "      <th>4</th>\n",
       "      <td>5f7d2e104bfca86e4f58ef9a</td>\n",
       "      <td>Group_FJ</td>\n",
       "      <td>0</td>\n",
       "      <td>885d1eea80d979e945a735ff9ec5071e70109282de3476...</td>\n",
       "      <td>1704</td>\n",
       "      <td>False</td>\n",
       "      <td>keypress</td>\n",
       "      <td>testresponse_l_J</td>\n",
       "      <td>518</td>\n",
       "      <td>['Longer']</td>\n",
       "      <td>choice-response</td>\n",
       "      <td>Shorter</td>\n",
       "      <td>5fbc5590be36f3ba328bd883</td>\n",
       "      <td>300ms_delay_2_94</td>\n",
       "      <td>4999</td>\n",
       "      <td>23</td>\n",
       "      <td>maintaskTrials_2_l</td>\n",
       "      <td>9</td>\n",
       "      <td>4</td>\n",
       "    </tr>\n",
       "  </tbody>\n",
       "</table>\n",
       "</div>"
      ],
      "text/plain": [
       "                    expt_id  group_id  network_error_repeat  \\\n",
       "0  5f7d2e104bfca86e4f58ef9a  Group_FJ                     0   \n",
       "1  5f7d2e104bfca86e4f58ef9a  Group_FJ                     0   \n",
       "2  5f7d2e104bfca86e4f58ef9a  Group_FJ                     0   \n",
       "3  5f7d2e104bfca86e4f58ef9a  Group_FJ                     0   \n",
       "4  5f7d2e104bfca86e4f58ef9a  Group_FJ                     0   \n",
       "\n",
       "                                      participant_id  participation_duration  \\\n",
       "0  885d1eea80d979e945a735ff9ec5071e70109282de3476...                    1704   \n",
       "1  885d1eea80d979e945a735ff9ec5071e70109282de3476...                    1704   \n",
       "2  885d1eea80d979e945a735ff9ec5071e70109282de3476...                    1704   \n",
       "3  885d1eea80d979e945a735ff9ec5071e70109282de3476...                    1704   \n",
       "4  885d1eea80d979e945a735ff9ec5071e70109282de3476...                    1704   \n",
       "\n",
       "  response_correct response_mode     response_name  response_rt  \\\n",
       "0             True      keypress  testresponse_s_F          820   \n",
       "1            False      keypress  testresponse_s_F          526   \n",
       "2             True      keypress  testresponse_s_F         1024   \n",
       "3            False      keypress  testresponse_s_F         2105   \n",
       "4            False      keypress  testresponse_l_J          518   \n",
       "\n",
       "  response_target    response_type response_value                session_id  \\\n",
       "0     ['Shorter']  choice-response        Shorter  5fbc5590be36f3ba328bd883   \n",
       "1     ['Shorter']  choice-response         Longer  5fbc5590be36f3ba328bd883   \n",
       "2     ['Shorter']  choice-response        Shorter  5fbc5590be36f3ba328bd883   \n",
       "3     ['Shorter']  choice-response         Longer  5fbc5590be36f3ba328bd883   \n",
       "4      ['Longer']  choice-response        Shorter  5fbc5590be36f3ba328bd883   \n",
       "\n",
       "  stimuli_presented  trial_duration  trial_num      trial_template Onset  \\\n",
       "0  300ms_delay_2_51            4599         19  maintaskTrials_2_s     5   \n",
       "1  300ms_delay_2_91            5341         20  maintaskTrials_2_s     9   \n",
       "2  300ms_delay_2_93            5019         21  maintaskTrials_2_s     9   \n",
       "3  300ms_delay_2_82            5980         22  maintaskTrials_2_s     8   \n",
       "4  300ms_delay_2_94            4999         23  maintaskTrials_2_l     9   \n",
       "\n",
       "  Length  \n",
       "0      1  \n",
       "1      1  \n",
       "2      3  \n",
       "3      2  \n",
       "4      4  "
      ]
     },
     "execution_count": 9,
     "metadata": {},
     "output_type": "execute_result"
    }
   ],
   "source": [
    "df_clean.head()"
   ]
  },
  {
   "cell_type": "code",
   "execution_count": 10,
   "metadata": {},
   "outputs": [
    {
     "data": {
      "text/plain": [
       "13608"
      ]
     },
     "execution_count": 10,
     "metadata": {},
     "output_type": "execute_result"
    }
   ],
   "source": [
    "len(df_clean)"
   ]
  },
  {
   "cell_type": "code",
   "execution_count": 11,
   "metadata": {},
   "outputs": [
    {
     "name": "stdout",
     "output_type": "stream",
     "text": [
      "Participant_number:\n",
      "63\n",
      "Trial number:\n",
      "216\n",
      "Condition number:\n",
      "18\n"
     ]
    }
   ],
   "source": [
    "## Number of subjects, trials & conditions for each subjects\n",
    "n_subj = len(df_clean['participant_id'].unique())\n",
    "n_trial = len(df_clean['trial_num'].unique())\n",
    "n_conds = len(df_clean['stimuli_presented'].unique())\n",
    "print('Participant_number:', n_subj,'Trial number:', n_trial,'Condition number:', n_conds, sep='\\n')"
   ]
  },
  {
   "cell_type": "markdown",
   "metadata": {},
   "source": [
    "### Accuracy"
   ]
  },
  {
   "cell_type": "code",
   "execution_count": 12,
   "metadata": {},
   "outputs": [],
   "source": [
    "Accuracy = []\n",
    "Acc_cond = []\n",
    "Easiest = []\n",
    "Easiest_idx = [conds.index('300ms_delay_2_81'),conds.index('300ms_delay_2_86')]\n",
    "for sub in subID:\n",
    "    tmpdf = df_clean[df_clean['participant_id'] == sub]\n",
    "    for cond in conds:\n",
    "        tmpAcc = np.mean(tmpdf[tmpdf['stimuli_presented'] == cond]['response_correct'])\n",
    "        Acc_cond.append(tmpAcc)\n",
    "    Easiest.append((Acc_cond[Easiest_idx[0]] + Acc_cond[Easiest_idx[-1]])/len(Easiest_idx)) # average accuracy of 81 and 86 \n",
    "    Accuracy.append(Acc_cond)\n",
    "    Acc_cond = []"
   ]
  },
  {
   "cell_type": "code",
   "execution_count": 13,
   "metadata": {},
   "outputs": [
    {
     "name": "stdout",
     "output_type": "stream",
     "text": [
      "count    63.000000\n",
      "mean      0.590608\n",
      "std       0.151260\n",
      "min       0.291667\n",
      "25%       0.500000\n",
      "50%       0.583333\n",
      "75%       0.708333\n",
      "max       0.916667\n",
      "dtype: float64\n"
     ]
    }
   ],
   "source": [
    "## Outliers based on the accuracy of the easiest trials \n",
    "Acc_easiest = pd.Series(Easiest, index=df_clean['participant_id'].unique())\n",
    "print(Acc_easiest.describe())\n",
    "t = Acc_easiest[Acc_easiest >= threshold]\n",
    "# print(\"Subjects who have >=\",threshold, \"accuracy for the easiest trials:\",len(t))"
   ]
  },
  {
   "cell_type": "code",
   "execution_count": 14,
   "metadata": {},
   "outputs": [
    {
     "name": "stdout",
     "output_type": "stream",
     "text": [
      "Final sample size: 34\n"
     ]
    }
   ],
   "source": [
    "## Exclude the outliers\n",
    "df_Accuracy = pd.DataFrame(data = Accuracy, index = subID, columns = conds)\n",
    "Acc_final_sample = df_Accuracy[Acc_easiest >= threshold]\n",
    "Acc_final_sample.head()\n",
    "print('Final sample size:', len(Acc_final_sample))\n",
    "# Acc_final_sample.describe()"
   ]
  },
  {
   "cell_type": "code",
   "execution_count": 15,
   "metadata": {},
   "outputs": [
    {
     "data": {
      "text/plain": [
       "34.0"
      ]
     },
     "execution_count": 15,
     "metadata": {},
     "output_type": "execute_result"
    }
   ],
   "source": [
    "outliers = Acc_easiest < threshold\n",
    "outliers = outliers[outliers == True]\n",
    "df_clean_nooutlier = df_clean[~df_clean['participant_id'].isin(outliers.index)]\n",
    "len(df_clean_nooutlier)/216"
   ]
  },
  {
   "cell_type": "code",
   "execution_count": 16,
   "metadata": {},
   "outputs": [],
   "source": [
    "## Save the dataset to csv\n",
    "df_clean_nooutlier.to_csv(path_or_buf = '/Users/t.z.cheng/Google_Drive/Research/Delaydoesmatter/real_exp/exp3_20CR11/results/20CR11_clean_n34.csv', index=True)"
   ]
  },
  {
   "cell_type": "code",
   "execution_count": null,
   "metadata": {
    "scrolled": true
   },
   "outputs": [],
   "source": [
    "## Early, ontime, late\n",
    "early = [conds.index('300ms_delay_2_51'),conds.index('300ms_delay_2_52'),conds.index('300ms_delay_2_53'),conds.index('300ms_delay_2_54'),conds.index('300ms_delay_2_55'),conds.index('300ms_delay_2_56')]\n",
    "ontime = [conds.index('300ms_delay_2_81'),conds.index('300ms_delay_2_82'),conds.index('300ms_delay_2_83'),conds.index('300ms_delay_2_84'),conds.index('300ms_delay_2_85'),conds.index('300ms_delay_2_86')]\n",
    "late = [conds.index('300ms_delay_2_91'),conds.index('300ms_delay_2_92'),conds.index('300ms_delay_2_93'),conds.index('300ms_delay_2_94'),conds.index('300ms_delay_2_95'),conds.index('300ms_delay_2_96')]\n",
    "Acc_early = Acc_final_sample.iloc[:, early].mean(axis = 1)\n",
    "Acc_ontime = Acc_final_sample.iloc[:, ontime].mean(axis = 1)\n",
    "Acc_late = Acc_final_sample.iloc[:, late].mean(axis = 1)\n",
    "print(\"Accuracy\")\n",
    "print(\"Early:\", np.mean(Acc_early))\n",
    "print(\"Ontime:\", np.mean(Acc_ontime))\n",
    "print(\"Late:\",np.mean(Acc_late))\n"
   ]
  },
  {
   "cell_type": "code",
   "execution_count": null,
   "metadata": {},
   "outputs": [],
   "source": [
    "## Visualization: bar plot\n",
    "ACC_plot = pd.DataFrame({'Conditions': conds, 'acc': np.mean(Acc_final_sample, axis = 0)})\n",
    "ax = ACC_plot.plot.bar(rot = 0)"
   ]
  },
  {
   "cell_type": "markdown",
   "metadata": {},
   "source": [
    "### Proportion short"
   ]
  },
  {
   "cell_type": "code",
   "execution_count": 17,
   "metadata": {},
   "outputs": [],
   "source": [
    "resp_short = []\n",
    "resp_short = [True if d == 'Shorter' else False for d in df_clean['response_value']]"
   ]
  },
  {
   "cell_type": "code",
   "execution_count": 18,
   "metadata": {},
   "outputs": [],
   "source": [
    "df_clean['resp_short'] = resp_short"
   ]
  },
  {
   "cell_type": "code",
   "execution_count": 19,
   "metadata": {},
   "outputs": [],
   "source": [
    "PPS = []\n",
    "PPS_cond = []\n",
    "for sub in subID:\n",
    "    tmpdf = df_clean[df_clean['participant_id'] == sub]\n",
    "    for cond in conds:\n",
    "        tmpPPS = np.mean(tmpdf[tmpdf['stimuli_presented'] == cond]['resp_short'])\n",
    "        PPS_cond.append(tmpPPS)\n",
    "    PPS.append(PPS_cond)\n",
    "    PPS_cond = []"
   ]
  },
  {
   "cell_type": "code",
   "execution_count": 20,
   "metadata": {},
   "outputs": [],
   "source": [
    "df_PPS = pd.DataFrame(data = PPS, index = subID, columns = conds)"
   ]
  },
  {
   "cell_type": "code",
   "execution_count": 21,
   "metadata": {},
   "outputs": [
    {
     "data": {
      "text/html": [
       "<div>\n",
       "<style scoped>\n",
       "    .dataframe tbody tr th:only-of-type {\n",
       "        vertical-align: middle;\n",
       "    }\n",
       "\n",
       "    .dataframe tbody tr th {\n",
       "        vertical-align: top;\n",
       "    }\n",
       "\n",
       "    .dataframe thead th {\n",
       "        text-align: right;\n",
       "    }\n",
       "</style>\n",
       "<table border=\"1\" class=\"dataframe\">\n",
       "  <thead>\n",
       "    <tr style=\"text-align: right;\">\n",
       "      <th></th>\n",
       "      <th>300ms_delay_2_51</th>\n",
       "      <th>300ms_delay_2_52</th>\n",
       "      <th>300ms_delay_2_53</th>\n",
       "      <th>300ms_delay_2_54</th>\n",
       "      <th>300ms_delay_2_55</th>\n",
       "      <th>300ms_delay_2_56</th>\n",
       "      <th>300ms_delay_2_81</th>\n",
       "      <th>300ms_delay_2_82</th>\n",
       "      <th>300ms_delay_2_83</th>\n",
       "      <th>300ms_delay_2_84</th>\n",
       "      <th>300ms_delay_2_85</th>\n",
       "      <th>300ms_delay_2_86</th>\n",
       "      <th>300ms_delay_2_91</th>\n",
       "      <th>300ms_delay_2_92</th>\n",
       "      <th>300ms_delay_2_93</th>\n",
       "      <th>300ms_delay_2_94</th>\n",
       "      <th>300ms_delay_2_95</th>\n",
       "      <th>300ms_delay_2_96</th>\n",
       "    </tr>\n",
       "  </thead>\n",
       "  <tbody>\n",
       "    <tr>\n",
       "      <th>count</th>\n",
       "      <td>34.000000</td>\n",
       "      <td>34.000000</td>\n",
       "      <td>34.000000</td>\n",
       "      <td>34.000000</td>\n",
       "      <td>34.000000</td>\n",
       "      <td>34.000000</td>\n",
       "      <td>34.000000</td>\n",
       "      <td>34.000000</td>\n",
       "      <td>34.000000</td>\n",
       "      <td>34.000000</td>\n",
       "      <td>34.000000</td>\n",
       "      <td>34.000000</td>\n",
       "      <td>34.000000</td>\n",
       "      <td>34.000000</td>\n",
       "      <td>34.000000</td>\n",
       "      <td>34.000000</td>\n",
       "      <td>34.000000</td>\n",
       "      <td>34.000000</td>\n",
       "    </tr>\n",
       "    <tr>\n",
       "      <th>mean</th>\n",
       "      <td>0.772059</td>\n",
       "      <td>0.730392</td>\n",
       "      <td>0.654412</td>\n",
       "      <td>0.629902</td>\n",
       "      <td>0.534314</td>\n",
       "      <td>0.519608</td>\n",
       "      <td>0.683824</td>\n",
       "      <td>0.551471</td>\n",
       "      <td>0.490196</td>\n",
       "      <td>0.438725</td>\n",
       "      <td>0.299020</td>\n",
       "      <td>0.274510</td>\n",
       "      <td>0.558824</td>\n",
       "      <td>0.477941</td>\n",
       "      <td>0.416667</td>\n",
       "      <td>0.335784</td>\n",
       "      <td>0.286765</td>\n",
       "      <td>0.269608</td>\n",
       "    </tr>\n",
       "    <tr>\n",
       "      <th>std</th>\n",
       "      <td>0.184989</td>\n",
       "      <td>0.185840</td>\n",
       "      <td>0.200097</td>\n",
       "      <td>0.181408</td>\n",
       "      <td>0.209334</td>\n",
       "      <td>0.241922</td>\n",
       "      <td>0.170140</td>\n",
       "      <td>0.180038</td>\n",
       "      <td>0.170122</td>\n",
       "      <td>0.204442</td>\n",
       "      <td>0.136265</td>\n",
       "      <td>0.156951</td>\n",
       "      <td>0.234386</td>\n",
       "      <td>0.223144</td>\n",
       "      <td>0.219043</td>\n",
       "      <td>0.194067</td>\n",
       "      <td>0.192659</td>\n",
       "      <td>0.202113</td>\n",
       "    </tr>\n",
       "    <tr>\n",
       "      <th>min</th>\n",
       "      <td>0.333333</td>\n",
       "      <td>0.333333</td>\n",
       "      <td>0.166667</td>\n",
       "      <td>0.333333</td>\n",
       "      <td>0.083333</td>\n",
       "      <td>0.083333</td>\n",
       "      <td>0.333333</td>\n",
       "      <td>0.166667</td>\n",
       "      <td>0.083333</td>\n",
       "      <td>0.083333</td>\n",
       "      <td>0.083333</td>\n",
       "      <td>0.083333</td>\n",
       "      <td>0.083333</td>\n",
       "      <td>0.083333</td>\n",
       "      <td>0.000000</td>\n",
       "      <td>0.000000</td>\n",
       "      <td>0.000000</td>\n",
       "      <td>0.000000</td>\n",
       "    </tr>\n",
       "    <tr>\n",
       "      <th>25%</th>\n",
       "      <td>0.666667</td>\n",
       "      <td>0.604167</td>\n",
       "      <td>0.520833</td>\n",
       "      <td>0.500000</td>\n",
       "      <td>0.416667</td>\n",
       "      <td>0.333333</td>\n",
       "      <td>0.583333</td>\n",
       "      <td>0.437500</td>\n",
       "      <td>0.416667</td>\n",
       "      <td>0.333333</td>\n",
       "      <td>0.187500</td>\n",
       "      <td>0.166667</td>\n",
       "      <td>0.416667</td>\n",
       "      <td>0.333333</td>\n",
       "      <td>0.250000</td>\n",
       "      <td>0.250000</td>\n",
       "      <td>0.166667</td>\n",
       "      <td>0.083333</td>\n",
       "    </tr>\n",
       "    <tr>\n",
       "      <th>50%</th>\n",
       "      <td>0.750000</td>\n",
       "      <td>0.750000</td>\n",
       "      <td>0.625000</td>\n",
       "      <td>0.583333</td>\n",
       "      <td>0.583333</td>\n",
       "      <td>0.541667</td>\n",
       "      <td>0.750000</td>\n",
       "      <td>0.541667</td>\n",
       "      <td>0.500000</td>\n",
       "      <td>0.416667</td>\n",
       "      <td>0.250000</td>\n",
       "      <td>0.250000</td>\n",
       "      <td>0.583333</td>\n",
       "      <td>0.500000</td>\n",
       "      <td>0.416667</td>\n",
       "      <td>0.333333</td>\n",
       "      <td>0.250000</td>\n",
       "      <td>0.250000</td>\n",
       "    </tr>\n",
       "    <tr>\n",
       "      <th>75%</th>\n",
       "      <td>0.916667</td>\n",
       "      <td>0.833333</td>\n",
       "      <td>0.812500</td>\n",
       "      <td>0.812500</td>\n",
       "      <td>0.666667</td>\n",
       "      <td>0.666667</td>\n",
       "      <td>0.750000</td>\n",
       "      <td>0.645833</td>\n",
       "      <td>0.583333</td>\n",
       "      <td>0.562500</td>\n",
       "      <td>0.395833</td>\n",
       "      <td>0.395833</td>\n",
       "      <td>0.750000</td>\n",
       "      <td>0.645833</td>\n",
       "      <td>0.562500</td>\n",
       "      <td>0.416667</td>\n",
       "      <td>0.416667</td>\n",
       "      <td>0.416667</td>\n",
       "    </tr>\n",
       "    <tr>\n",
       "      <th>max</th>\n",
       "      <td>1.000000</td>\n",
       "      <td>1.000000</td>\n",
       "      <td>1.000000</td>\n",
       "      <td>1.000000</td>\n",
       "      <td>0.916667</td>\n",
       "      <td>0.916667</td>\n",
       "      <td>1.000000</td>\n",
       "      <td>0.916667</td>\n",
       "      <td>0.833333</td>\n",
       "      <td>0.916667</td>\n",
       "      <td>0.583333</td>\n",
       "      <td>0.666667</td>\n",
       "      <td>1.000000</td>\n",
       "      <td>0.916667</td>\n",
       "      <td>0.916667</td>\n",
       "      <td>0.833333</td>\n",
       "      <td>0.750000</td>\n",
       "      <td>0.750000</td>\n",
       "    </tr>\n",
       "  </tbody>\n",
       "</table>\n",
       "</div>"
      ],
      "text/plain": [
       "       300ms_delay_2_51  300ms_delay_2_52  300ms_delay_2_53  300ms_delay_2_54  \\\n",
       "count         34.000000         34.000000         34.000000         34.000000   \n",
       "mean           0.772059          0.730392          0.654412          0.629902   \n",
       "std            0.184989          0.185840          0.200097          0.181408   \n",
       "min            0.333333          0.333333          0.166667          0.333333   \n",
       "25%            0.666667          0.604167          0.520833          0.500000   \n",
       "50%            0.750000          0.750000          0.625000          0.583333   \n",
       "75%            0.916667          0.833333          0.812500          0.812500   \n",
       "max            1.000000          1.000000          1.000000          1.000000   \n",
       "\n",
       "       300ms_delay_2_55  300ms_delay_2_56  300ms_delay_2_81  300ms_delay_2_82  \\\n",
       "count         34.000000         34.000000         34.000000         34.000000   \n",
       "mean           0.534314          0.519608          0.683824          0.551471   \n",
       "std            0.209334          0.241922          0.170140          0.180038   \n",
       "min            0.083333          0.083333          0.333333          0.166667   \n",
       "25%            0.416667          0.333333          0.583333          0.437500   \n",
       "50%            0.583333          0.541667          0.750000          0.541667   \n",
       "75%            0.666667          0.666667          0.750000          0.645833   \n",
       "max            0.916667          0.916667          1.000000          0.916667   \n",
       "\n",
       "       300ms_delay_2_83  300ms_delay_2_84  300ms_delay_2_85  300ms_delay_2_86  \\\n",
       "count         34.000000         34.000000         34.000000         34.000000   \n",
       "mean           0.490196          0.438725          0.299020          0.274510   \n",
       "std            0.170122          0.204442          0.136265          0.156951   \n",
       "min            0.083333          0.083333          0.083333          0.083333   \n",
       "25%            0.416667          0.333333          0.187500          0.166667   \n",
       "50%            0.500000          0.416667          0.250000          0.250000   \n",
       "75%            0.583333          0.562500          0.395833          0.395833   \n",
       "max            0.833333          0.916667          0.583333          0.666667   \n",
       "\n",
       "       300ms_delay_2_91  300ms_delay_2_92  300ms_delay_2_93  300ms_delay_2_94  \\\n",
       "count         34.000000         34.000000         34.000000         34.000000   \n",
       "mean           0.558824          0.477941          0.416667          0.335784   \n",
       "std            0.234386          0.223144          0.219043          0.194067   \n",
       "min            0.083333          0.083333          0.000000          0.000000   \n",
       "25%            0.416667          0.333333          0.250000          0.250000   \n",
       "50%            0.583333          0.500000          0.416667          0.333333   \n",
       "75%            0.750000          0.645833          0.562500          0.416667   \n",
       "max            1.000000          0.916667          0.916667          0.833333   \n",
       "\n",
       "       300ms_delay_2_95  300ms_delay_2_96  \n",
       "count         34.000000         34.000000  \n",
       "mean           0.286765          0.269608  \n",
       "std            0.192659          0.202113  \n",
       "min            0.000000          0.000000  \n",
       "25%            0.166667          0.083333  \n",
       "50%            0.250000          0.250000  \n",
       "75%            0.416667          0.416667  \n",
       "max            0.750000          0.750000  "
      ]
     },
     "execution_count": 21,
     "metadata": {},
     "output_type": "execute_result"
    }
   ],
   "source": [
    "PPS_final_sample = df_PPS[Acc_easiest >= threshold]\n",
    "PPS_final_sample.head()\n",
    "PPS_final_sample.describe()"
   ]
  },
  {
   "cell_type": "code",
   "execution_count": 22,
   "metadata": {},
   "outputs": [
    {
     "name": "stdout",
     "output_type": "stream",
     "text": [
      "Proportion short\n",
      "Early: 0.6401143790849673\n",
      "Ontime: 0.4562908496732026\n",
      "Late: 0.3909313725490196\n"
     ]
    }
   ],
   "source": [
    "## Early, ontime, late\n",
    "early = [conds.index('300ms_delay_2_51'),conds.index('300ms_delay_2_52'),conds.index('300ms_delay_2_53'),conds.index('300ms_delay_2_54'),conds.index('300ms_delay_2_55'),conds.index('300ms_delay_2_56')]\n",
    "ontime = [conds.index('300ms_delay_2_81'),conds.index('300ms_delay_2_82'),conds.index('300ms_delay_2_83'),conds.index('300ms_delay_2_84'),conds.index('300ms_delay_2_85'),conds.index('300ms_delay_2_86')]\n",
    "late = [conds.index('300ms_delay_2_91'),conds.index('300ms_delay_2_92'),conds.index('300ms_delay_2_93'),conds.index('300ms_delay_2_94'),conds.index('300ms_delay_2_95'),conds.index('300ms_delay_2_96')]\n",
    "PPS_early = PPS_final_sample.iloc[:, early].mean(axis = 1)\n",
    "PPS_ontime = PPS_final_sample.iloc[:, ontime].mean(axis = 1)\n",
    "PPS_late = PPS_final_sample.iloc[:, late].mean(axis = 1)\n",
    "print(\"Proportion short\")\n",
    "print(\"Early:\", np.mean(PPS_early))\n",
    "print(\"Ontime:\", np.mean(PPS_ontime))\n",
    "print(\"Late:\",np.mean(PPS_late))"
   ]
  },
  {
   "cell_type": "code",
   "execution_count": 23,
   "metadata": {},
   "outputs": [
    {
     "data": {
      "image/png": "[encoded data removed]",
      "text/plain": [
       "<Figure size 432x288 with 1 Axes>"
      ]
     },
     "metadata": {
      "needs_background": "light"
     },
     "output_type": "display_data"
    }
   ],
   "source": [
    "## Visualization: bar plot\n",
    "PSS_plot = pd.DataFrame({'Conditions': conds, 'PSS': np.mean(PPS_final_sample, axis = 0)})\n",
    "ax = PSS_plot.plot.bar(rot = 0)"
   ]
  },
  {
   "cell_type": "markdown",
   "metadata": {},
   "source": [
    "### To do...\n",
    "1. Response key effect\n",
    "2. Decide the outliers and fill in the outliers\n",
    "3. Statistics"
   ]
  },
  {
   "cell_type": "markdown",
   "metadata": {},
   "source": [
    "### Reaciton time"
   ]
  },
  {
   "cell_type": "code",
   "execution_count": null,
   "metadata": {},
   "outputs": [],
   "source": []
  }
 ],
 "metadata": {
  "kernelspec": {
   "display_name": "Python 3",
   "language": "python",
   "name": "python3"
  },
  "language_info": {
   "codemirror_mode": {
    "name": "ipython",
    "version": 3
   },
   "file_extension": ".py",
   "mimetype": "text/x-python",
   "name": "python",
   "nbconvert_exporter": "python",
   "pygments_lexer": "ipython3",
   "version": "3.7.6"
  }
 },
 "nbformat": 4,
 "nbformat_minor": 4
}
