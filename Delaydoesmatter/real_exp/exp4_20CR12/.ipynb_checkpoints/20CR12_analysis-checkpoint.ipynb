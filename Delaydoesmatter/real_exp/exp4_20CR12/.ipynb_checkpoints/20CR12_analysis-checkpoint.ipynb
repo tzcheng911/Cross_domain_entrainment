{
 "cells": [
  {
   "cell_type": "code",
   "execution_count": 1,
   "metadata": {},
   "outputs": [],
   "source": [
    "import csv\n",
    "import numpy as np\n",
    "import pandas as pd\n",
    "from collections import defaultdict\n",
    "import string\n",
    "import seaborn as sns\n",
    "from sklearn import linear_model\n",
    "from sklearn import metrics # confusion matrix, MSE etc."
   ]
  },
  {
   "cell_type": "code",
   "execution_count": 2,
   "metadata": {},
   "outputs": [],
   "source": [
    "import os\n",
    "cwd = os.getcwd()"
   ]
  },
  {
   "cell_type": "code",
   "execution_count": 3,
   "metadata": {},
   "outputs": [
    {
     "data": {
      "text/plain": [
       "'/Users/t.z.cheng/Google_Drive/Research/Delaydoesmatter/real_exp/exp4_20CR12'"
      ]
     },
     "execution_count": 3,
     "metadata": {},
     "output_type": "execute_result"
    }
   ],
   "source": [
    "cwd"
   ]
  },
  {
   "cell_type": "code",
   "execution_count": 10,
   "metadata": {},
   "outputs": [],
   "source": [
    "path_to_data = '/Users/t.z.cheng/Google_Drive/Research/Delaydoesmatter/real_exp/exp4_20CR12/results/results.csv'"
   ]
  },
  {
   "cell_type": "code",
   "execution_count": 11,
   "metadata": {},
   "outputs": [],
   "source": [
    "## Read the data\n",
    "df = pd.read_csv(path_to_data)"
   ]
  },
  {
   "cell_type": "code",
   "execution_count": 12,
   "metadata": {},
   "outputs": [
    {
     "data": {
      "text/html": [
       "<div>\n",
       "<style scoped>\n",
       "    .dataframe tbody tr th:only-of-type {\n",
       "        vertical-align: middle;\n",
       "    }\n",
       "\n",
       "    .dataframe tbody tr th {\n",
       "        vertical-align: top;\n",
       "    }\n",
       "\n",
       "    .dataframe thead th {\n",
       "        text-align: right;\n",
       "    }\n",
       "</style>\n",
       "<table border=\"1\" class=\"dataframe\">\n",
       "  <thead>\n",
       "    <tr style=\"text-align: right;\">\n",
       "      <th></th>\n",
       "      <th>expt_id</th>\n",
       "      <th>group_id</th>\n",
       "      <th>network_error_repeat</th>\n",
       "      <th>participant_id</th>\n",
       "      <th>participation_duration</th>\n",
       "      <th>response_correct</th>\n",
       "      <th>response_mode</th>\n",
       "      <th>response_name</th>\n",
       "      <th>response_rt</th>\n",
       "      <th>response_target</th>\n",
       "      <th>response_type</th>\n",
       "      <th>response_value</th>\n",
       "      <th>session_id</th>\n",
       "      <th>stimuli_presented</th>\n",
       "      <th>trial_duration</th>\n",
       "      <th>trial_num</th>\n",
       "      <th>trial_template</th>\n",
       "    </tr>\n",
       "  </thead>\n",
       "  <tbody>\n",
       "    <tr>\n",
       "      <th>0</th>\n",
       "      <td>5fb6ae2b172cc12b1c5b3050</td>\n",
       "      <td>Group_FJ</td>\n",
       "      <td>0</td>\n",
       "      <td>89c4823ca3301fd0cfeda439ec845b239f84f4f6ea97b6...</td>\n",
       "      <td>1575</td>\n",
       "      <td>False</td>\n",
       "      <td>click</td>\n",
       "      <td>survey_noise</td>\n",
       "      <td>4203</td>\n",
       "      <td>[]</td>\n",
       "      <td>choice-response</td>\n",
       "      <td>1</td>\n",
       "      <td>5fbc55f9be36f3ba328bd89b</td>\n",
       "      <td>logistics_noise</td>\n",
       "      <td>7298</td>\n",
       "      <td>1</td>\n",
       "      <td>logisticsQuestionnaire</td>\n",
       "    </tr>\n",
       "    <tr>\n",
       "      <th>1</th>\n",
       "      <td>5fb6ae2b172cc12b1c5b3050</td>\n",
       "      <td>Group_FJ</td>\n",
       "      <td>0</td>\n",
       "      <td>89c4823ca3301fd0cfeda439ec845b239f84f4f6ea97b6...</td>\n",
       "      <td>1575</td>\n",
       "      <td>False</td>\n",
       "      <td>click</td>\n",
       "      <td>survey_headphone</td>\n",
       "      <td>54994</td>\n",
       "      <td>[]</td>\n",
       "      <td>choice-response</td>\n",
       "      <td>Wired Earbuds</td>\n",
       "      <td>5fbc55f9be36f3ba328bd89b</td>\n",
       "      <td>logistic_headphone</td>\n",
       "      <td>56788</td>\n",
       "      <td>2</td>\n",
       "      <td>logisticsQuestionnaire</td>\n",
       "    </tr>\n",
       "    <tr>\n",
       "      <th>2</th>\n",
       "      <td>5fb6ae2b172cc12b1c5b3050</td>\n",
       "      <td>Group_FJ</td>\n",
       "      <td>0</td>\n",
       "      <td>89c4823ca3301fd0cfeda439ec845b239f84f4f6ea97b6...</td>\n",
       "      <td>1575</td>\n",
       "      <td>True</td>\n",
       "      <td>keypress</td>\n",
       "      <td>exampleresponse_s_F</td>\n",
       "      <td>1809</td>\n",
       "      <td>['Shorter']</td>\n",
       "      <td>choice-response</td>\n",
       "      <td>Shorter</td>\n",
       "      <td>5fbc55f9be36f3ba328bd89b</td>\n",
       "      <td>short_tone_1</td>\n",
       "      <td>5251</td>\n",
       "      <td>3</td>\n",
       "      <td>Pretestexample_s</td>\n",
       "    </tr>\n",
       "    <tr>\n",
       "      <th>3</th>\n",
       "      <td>5fb6ae2b172cc12b1c5b3050</td>\n",
       "      <td>Group_FJ</td>\n",
       "      <td>0</td>\n",
       "      <td>89c4823ca3301fd0cfeda439ec845b239f84f4f6ea97b6...</td>\n",
       "      <td>1575</td>\n",
       "      <td>True</td>\n",
       "      <td>keypress</td>\n",
       "      <td>exampleresponse_l_J</td>\n",
       "      <td>1361</td>\n",
       "      <td>['Longer']</td>\n",
       "      <td>choice-response</td>\n",
       "      <td>Longer</td>\n",
       "      <td>5fbc55f9be36f3ba328bd89b</td>\n",
       "      <td>long_tone_6</td>\n",
       "      <td>4976</td>\n",
       "      <td>4</td>\n",
       "      <td>Pretestexample_l</td>\n",
       "    </tr>\n",
       "    <tr>\n",
       "      <th>4</th>\n",
       "      <td>5fb6ae2b172cc12b1c5b3050</td>\n",
       "      <td>Group_FJ</td>\n",
       "      <td>0</td>\n",
       "      <td>89c4823ca3301fd0cfeda439ec845b239f84f4f6ea97b6...</td>\n",
       "      <td>1575</td>\n",
       "      <td>True</td>\n",
       "      <td>keypress</td>\n",
       "      <td>exampleresponse_s_F</td>\n",
       "      <td>578</td>\n",
       "      <td>['Shorter']</td>\n",
       "      <td>choice-response</td>\n",
       "      <td>Shorter</td>\n",
       "      <td>5fbc55f9be36f3ba328bd89b</td>\n",
       "      <td>short_tone_1</td>\n",
       "      <td>4149</td>\n",
       "      <td>5</td>\n",
       "      <td>Pretestexample_s</td>\n",
       "    </tr>\n",
       "  </tbody>\n",
       "</table>\n",
       "</div>"
      ],
      "text/plain": [
       "                    expt_id  group_id  network_error_repeat  \\\n",
       "0  5fb6ae2b172cc12b1c5b3050  Group_FJ                     0   \n",
       "1  5fb6ae2b172cc12b1c5b3050  Group_FJ                     0   \n",
       "2  5fb6ae2b172cc12b1c5b3050  Group_FJ                     0   \n",
       "3  5fb6ae2b172cc12b1c5b3050  Group_FJ                     0   \n",
       "4  5fb6ae2b172cc12b1c5b3050  Group_FJ                     0   \n",
       "\n",
       "                                      participant_id  participation_duration  \\\n",
       "0  89c4823ca3301fd0cfeda439ec845b239f84f4f6ea97b6...                    1575   \n",
       "1  89c4823ca3301fd0cfeda439ec845b239f84f4f6ea97b6...                    1575   \n",
       "2  89c4823ca3301fd0cfeda439ec845b239f84f4f6ea97b6...                    1575   \n",
       "3  89c4823ca3301fd0cfeda439ec845b239f84f4f6ea97b6...                    1575   \n",
       "4  89c4823ca3301fd0cfeda439ec845b239f84f4f6ea97b6...                    1575   \n",
       "\n",
       "  response_correct response_mode        response_name  response_rt  \\\n",
       "0            False         click         survey_noise         4203   \n",
       "1            False         click     survey_headphone        54994   \n",
       "2             True      keypress  exampleresponse_s_F         1809   \n",
       "3             True      keypress  exampleresponse_l_J         1361   \n",
       "4             True      keypress  exampleresponse_s_F          578   \n",
       "\n",
       "  response_target    response_type response_value                session_id  \\\n",
       "0              []  choice-response              1  5fbc55f9be36f3ba328bd89b   \n",
       "1              []  choice-response  Wired Earbuds  5fbc55f9be36f3ba328bd89b   \n",
       "2     ['Shorter']  choice-response        Shorter  5fbc55f9be36f3ba328bd89b   \n",
       "3      ['Longer']  choice-response         Longer  5fbc55f9be36f3ba328bd89b   \n",
       "4     ['Shorter']  choice-response        Shorter  5fbc55f9be36f3ba328bd89b   \n",
       "\n",
       "    stimuli_presented  trial_duration  trial_num          trial_template  \n",
       "0     logistics_noise            7298          1  logisticsQuestionnaire  \n",
       "1  logistic_headphone           56788          2  logisticsQuestionnaire  \n",
       "2        short_tone_1            5251          3        Pretestexample_s  \n",
       "3         long_tone_6            4976          4        Pretestexample_l  \n",
       "4        short_tone_1            4149          5        Pretestexample_s  "
      ]
     },
     "execution_count": 12,
     "metadata": {},
     "output_type": "execute_result"
    }
   ],
   "source": [
    "df.head()"
   ]
  },
  {
   "cell_type": "code",
   "execution_count": 13,
   "metadata": {},
   "outputs": [],
   "source": [
    "## Number of trials for each subjects\n",
    "n_trial = len(df['trial_num'].unique())"
   ]
  },
  {
   "cell_type": "code",
   "execution_count": 14,
   "metadata": {},
   "outputs": [],
   "source": [
    "## Conditions \n",
    "n_cond = len(df['stimuli_presented'].unique())"
   ]
  },
  {
   "cell_type": "code",
   "execution_count": 15,
   "metadata": {},
   "outputs": [
    {
     "data": {
      "text/plain": [
       "array(['logistics_noise', 'logistic_headphone', 'short_tone_1',\n",
       "       'long_tone_6', 'single_300ms_long', 'single_300ms_short',\n",
       "       'single_300ms_delay_2_86', 'single_300ms_delay_2_81',\n",
       "       'single_300ms_delay_2_51', 'single_300ms_delay_2_95',\n",
       "       'single_300ms_delay_2_55', 'single_300ms_delay_2_53',\n",
       "       'single_300ms_delay_2_54', 'single_300ms_delay_2_83',\n",
       "       'single_300ms_delay_2_91', 'single_300ms_delay_2_92',\n",
       "       'single_300ms_delay_2_93', 'single_300ms_delay_2_56',\n",
       "       'single_300ms_delay_2_82', 'single_300ms_delay_2_96',\n",
       "       'single_300ms_delay_2_52', 'single_300ms_delay_2_94',\n",
       "       'single_300ms_delay_2_85', 'single_300ms_delay_2_84', 'basic1',\n",
       "       'basic2', 'musicbackground1', 'musicbackground2',\n",
       "       'musicbackground3'], dtype=object)"
      ]
     },
     "execution_count": 15,
     "metadata": {},
     "output_type": "execute_result"
    }
   ],
   "source": [
    "df['stimuli_presented'].unique()"
   ]
  },
  {
   "cell_type": "code",
   "execution_count": null,
   "metadata": {},
   "outputs": [],
   "source": []
  },
  {
   "cell_type": "code",
   "execution_count": null,
   "metadata": {},
   "outputs": [],
   "source": [
    "df['participant_id'].unique()\n",
    "df['participant_id'].value_counts()"
   ]
  },
  {
   "cell_type": "code",
   "execution_count": null,
   "metadata": {},
   "outputs": [],
   "source": [
    "len(df['participant_id'].value_counts())"
   ]
  },
  {
   "cell_type": "code",
   "execution_count": null,
   "metadata": {},
   "outputs": [],
   "source": []
  }
 ],
 "metadata": {
  "kernelspec": {
   "display_name": "Python 3",
   "language": "python",
   "name": "python3"
  },
  "language_info": {
   "codemirror_mode": {
    "name": "ipython",
    "version": 3
   },
   "file_extension": ".py",
   "mimetype": "text/x-python",
   "name": "python",
   "nbconvert_exporter": "python",
   "pygments_lexer": "ipython3",
   "version": "3.7.6"
  }
 },
 "nbformat": 4,
 "nbformat_minor": 4
}
